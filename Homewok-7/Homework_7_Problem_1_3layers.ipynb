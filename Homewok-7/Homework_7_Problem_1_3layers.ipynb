{
  "cells": [
    {
      "cell_type": "markdown",
      "metadata": {
        "id": "view-in-github",
        "colab_type": "text"
      },
      "source": [
        "<a href=\"https://colab.research.google.com/github/Ahmed-M-Elshazly/Homework-7/blob/main/Homework_7_Problem_1_3layers.ipynb\" target=\"_parent\"><img src=\"https://colab.research.google.com/assets/colab-badge.svg\" alt=\"Open In Colab\"/></a>"
      ]
    },
    {
      "cell_type": "markdown",
      "metadata": {
        "id": "iHDVHfssy6Qz"
      },
      "source": [
        "#Homework 7\n",
        "#Problem 1-using 3 layers\n",
        "#Ahmed Elshazly\n",
        "#801420724"
      ]
    },
    {
      "cell_type": "code",
      "execution_count": null,
      "metadata": {
        "id": "Hep86coQ0y9F"
      },
      "outputs": [],
      "source": [
        "import torch\n",
        "import torch.nn as nn\n",
        "import torch.optim as optim\n",
        "import torchvision\n",
        "import torchvision.transforms as transforms\n",
        "from sklearn.metrics import confusion_matrix, f1_score\n",
        "import time\n",
        "from matplotlib import pyplot as plt\n",
        "import numpy as np"
      ]
    },
    {
      "cell_type": "code",
      "execution_count": null,
      "metadata": {
        "id": "D9naEwyXBVtP"
      },
      "outputs": [],
      "source": [
        "# Set device\n",
        "device = torch.device(\"cuda:1\" if torch.cuda.is_available() else \"cpu\")"
      ]
    },
    {
      "cell_type": "code",
      "execution_count": null,
      "metadata": {
        "colab": {
          "base_uri": "https://localhost:8080/"
        },
        "id": "YHkVUNNr07yB",
        "outputId": "6eb2c3df-ddad-48d2-bd1e-ad316e20034b"
      },
      "outputs": [
        {
          "name": "stdout",
          "output_type": "stream",
          "text": [
            "Files already downloaded and verified\n",
            "Files already downloaded and verified\n"
          ]
        }
      ],
      "source": [
        "# Load CIFAR-10 dataset to calculate mean and std\n",
        "train_dataset = torchvision.datasets.CIFAR10('../data-unversioned/p1ch7/', train=True, download=True)\n",
        "val_dataset = torchvision.datasets.CIFAR10('../data-unversioned/p1ch7/', train=False, download=True)"
      ]
    },
    {
      "cell_type": "code",
      "execution_count": null,
      "metadata": {
        "colab": {
          "base_uri": "https://localhost:8080/"
        },
        "id": "7r6zOQ6m2d4C",
        "outputId": "1a1f7e40-9ecf-4aa1-c11e-5188cd02cd05"
      },
      "outputs": [
        {
          "data": {
            "text/plain": [
              "(<PIL.Image.Image image mode=RGB size=32x32>, 8, 'ship')"
            ]
          },
          "execution_count": 18,
          "metadata": {},
          "output_type": "execute_result"
        }
      ],
      "source": [
        "class_names = ['airplane', 'automobile', 'bird', 'cat', 'deer', 'dog', 'frog', 'horse', 'ship', 'truck']\n",
        "img, label = train_dataset[100]\n",
        "img, label, class_names[label]"
      ]
    },
    {
      "cell_type": "code",
      "execution_count": null,
      "metadata": {
        "colab": {
          "base_uri": "https://localhost:8080/"
        },
        "id": "VdEKFBd_3lrf",
        "outputId": "72609413-75d7-4e1e-dbcf-01b9954b0dc1"
      },
      "outputs": [
        {
          "data": {
            "text/plain": [
              "50000"
            ]
          },
          "execution_count": 19,
          "metadata": {},
          "output_type": "execute_result"
        }
      ],
      "source": [
        "len(train_dataset)"
      ]
    },
    {
      "cell_type": "code",
      "execution_count": null,
      "metadata": {
        "colab": {
          "base_uri": "https://localhost:8080/",
          "height": 430
        },
        "id": "rGxLyiU14Ydc",
        "outputId": "e306ff33-10c9-42a1-a3b8-4bb94f6a36d4"
      },
      "outputs": [
        {
          "data": {
            "image/png": "[encoded data removed]",
            "text/plain": [
              "<Figure size 640x480 with 1 Axes>"
            ]
          },
          "metadata": {},
          "output_type": "display_data"
        }
      ],
      "source": [
        "plt.imshow(img)\n",
        "plt.show()"
      ]
    },
    {
      "cell_type": "code",
      "execution_count": null,
      "metadata": {
        "colab": {
          "base_uri": "https://localhost:8080/"
        },
        "id": "UkTGbkNd4mY4",
        "outputId": "c03ca739-983f-4330-8b8f-2bece6da854e"
      },
      "outputs": [
        {
          "data": {
            "text/plain": [
              "torch.Size([3, 32, 32])"
            ]
          },
          "execution_count": 21,
          "metadata": {},
          "output_type": "execute_result"
        }
      ],
      "source": [
        "from torchvision import transforms\n",
        "\n",
        "to_tensor = transforms.ToTensor()\n",
        "img_t = to_tensor(img)\n",
        "img_t.shape"
      ]
    },
    {
      "cell_type": "code",
      "execution_count": null,
      "metadata": {
        "colab": {
          "base_uri": "https://localhost:8080/"
        },
        "id": "G2pj3M836NT0",
        "outputId": "d82d4015-2382-426d-82af-2eb7dda560e7"
      },
      "outputs": [
        {
          "data": {
            "text/plain": [
              "torch.Size([3, 32, 32, 50000])"
            ]
          },
          "execution_count": 22,
          "metadata": {},
          "output_type": "execute_result"
        }
      ],
      "source": [
        "train_dataset = torchvision.datasets.CIFAR10('../data-unversioned/p1ch7/', train=True, download=False,\n",
        "                          transform=transforms.ToTensor())\n",
        "imgs = torch.stack([img_t for img_t, _ in train_dataset], dim=3)\n",
        "imgs.shape"
      ]
    },
    {
      "cell_type": "code",
      "execution_count": null,
      "metadata": {
        "colab": {
          "base_uri": "https://localhost:8080/",
          "height": 430
        },
        "id": "ffgriKfr8D3J",
        "outputId": "0d0f0357-e1af-47ce-bfda-28d46cb58e17"
      },
      "outputs": [
        {
          "data": {
            "image/png": "[encoded data removed]",
            "text/plain": [
              "<Figure size 640x480 with 1 Axes>"
            ]
          },
          "metadata": {},
          "output_type": "display_data"
        }
      ],
      "source": [
        "plt.imshow(img_t.permute(1, 2, 0))  # <1>\n",
        "plt.show()"
      ]
    },
    {
      "cell_type": "code",
      "execution_count": null,
      "metadata": {
        "colab": {
          "base_uri": "https://localhost:8080/"
        },
        "id": "0fauThWj8EdP",
        "outputId": "ebe6b942-e76f-495d-d0a4-fcee0ea09975"
      },
      "outputs": [
        {
          "name": "stdout",
          "output_type": "stream",
          "text": [
            "tensor([0.4914, 0.4822, 0.4465])\n",
            "tensor([0.2470, 0.2435, 0.2616])\n"
          ]
        }
      ],
      "source": [
        "train_mean=imgs.view(3, -1).mean(dim=1)\n",
        "train_std=imgs.view(3, -1).std(dim=1)\n",
        "print(train_mean)\n",
        "print(train_std)\n"
      ]
    },
    {
      "cell_type": "code",
      "execution_count": null,
      "metadata": {
        "colab": {
          "base_uri": "https://localhost:8080/"
        },
        "id": "IL7MIlnq8mGi",
        "outputId": "0e6c2ad7-9cb5-45be-88e9-a4444241c185"
      },
      "outputs": [
        {
          "data": {
            "text/plain": [
              "Normalize(mean=tensor([0.4914, 0.4822, 0.4465]), std=tensor([0.2470, 0.2435, 0.2616]))"
            ]
          },
          "execution_count": 25,
          "metadata": {},
          "output_type": "execute_result"
        }
      ],
      "source": [
        "transforms.Normalize(train_mean, train_std)\n"
      ]
    },
    {
      "cell_type": "code",
      "execution_count": null,
      "metadata": {
        "id": "k_lIbn4_864u"
      },
      "outputs": [],
      "source": [
        "transformed_train_dataset = torchvision.datasets.CIFAR10(\n",
        "    '../data-unversioned/p1ch7/', train=True, download=False,\n",
        "    transform=transforms.Compose([\n",
        "        transforms.ToTensor(),\n",
        "        transforms.Normalize(train_mean,\n",
        "                             train_std)\n",
        "    ]))\n",
        "train_loader = torch.utils.data.DataLoader(transformed_train_dataset, batch_size=64, shuffle=True)"
      ]
    },
    {
      "cell_type": "code",
      "execution_count": null,
      "metadata": {
        "id": "ynOLL2IY_N3a"
      },
      "outputs": [],
      "source": []
    },
    {
      "cell_type": "code",
      "execution_count": null,
      "metadata": {
        "id": "ZSBI3xwxArTi"
      },
      "outputs": [],
      "source": [
        "class CNN(nn.Module):\n",
        "    def __init__(self):\n",
        "        super(CNN, self).__init__()\n",
        "        self.conv1 = nn.Conv2d(3, 32, kernel_size=3, padding=1)\n",
        "        self.relu = nn.ReLU()\n",
        "        self.pool = nn.MaxPool2d(2)\n",
        "        self.conv2 = nn.Conv2d(32, 16, kernel_size=3, padding=1)\n",
        "        self.conv3 = nn.Conv2d(16, 8, kernel_size=3, padding=1)\n",
        "        self.fc1 = nn.Linear(8 * 4 * 4, 256)\n",
        "        self.tanh = nn.Tanh()\n",
        "        self.fc2 = nn.Linear(256, 10)\n",
        "\n",
        "    def forward(self, x):\n",
        "        x = self.relu(self.conv1(x))\n",
        "        x = self.pool(x)\n",
        "        x = self.relu(self.conv2(x))\n",
        "        x = self.pool(x)\n",
        "        x = self.relu(self.conv3(x))\n",
        "        x = self.pool(x)\n",
        "        x = x.view(-1,8 * 4 * 4)\n",
        "        x = self.tanh(self.fc1(x))\n",
        "        x = self.fc2(x)\n",
        "        return x\n",
        "\n",
        "\n",
        "model = CNN().to(device)"
      ]
    },
    {
      "cell_type": "code",
      "execution_count": null,
      "metadata": {
        "colab": {
          "base_uri": "https://localhost:8080/",
          "height": 1000
        },
        "id": "3jtHoziOBljm",
        "outputId": "0bee42ea-5786-4c05-d004-fcfb341de66d"
      },
      "outputs": [
        {
          "name": "stdout",
          "output_type": "stream",
          "text": [
            "Epoch: 1, Train Loss: 1.825046, Epoch Runtime: 8.90 seconds\n",
            "Epoch: 2, Train Loss: 1.625695, Epoch Runtime: 9.05 seconds\n",
            "Epoch: 3, Train Loss: 1.512062, Epoch Runtime: 9.49 seconds\n",
            "Epoch: 4, Train Loss: 1.271902, Epoch Runtime: 8.12 seconds\n",
            "Epoch: 5, Train Loss: 1.070291, Epoch Runtime: 8.64 seconds\n",
            "Epoch: 6, Train Loss: 1.092567, Epoch Runtime: 9.33 seconds\n",
            "Epoch: 7, Train Loss: 1.180557, Epoch Runtime: 8.65 seconds\n",
            "Epoch: 8, Train Loss: 1.001431, Epoch Runtime: 8.76 seconds\n",
            "Epoch: 9, Train Loss: 0.865904, Epoch Runtime: 8.30 seconds\n",
            "Epoch: 10, Train Loss: 1.126062, Epoch Runtime: 6.99 seconds\n",
            "Epoch: 11, Train Loss: 1.034333, Epoch Runtime: 6.54 seconds\n",
            "Epoch: 12, Train Loss: 0.982443, Epoch Runtime: 6.97 seconds\n",
            "Epoch: 13, Train Loss: 0.956502, Epoch Runtime: 6.64 seconds\n",
            "Epoch: 14, Train Loss: 0.635855, Epoch Runtime: 7.86 seconds\n",
            "Epoch: 15, Train Loss: 1.461774, Epoch Runtime: 6.68 seconds\n",
            "Epoch: 16, Train Loss: 1.259930, Epoch Runtime: 6.44 seconds\n",
            "Epoch: 17, Train Loss: 1.505692, Epoch Runtime: 6.52 seconds\n",
            "Epoch: 18, Train Loss: 1.316088, Epoch Runtime: 8.47 seconds\n",
            "Epoch: 19, Train Loss: 0.961446, Epoch Runtime: 6.65 seconds\n",
            "Epoch: 20, Train Loss: 1.457655, Epoch Runtime: 6.75 seconds\n",
            "Epoch: 21, Train Loss: 0.976408, Epoch Runtime: 6.39 seconds\n",
            "Epoch: 22, Train Loss: 1.145305, Epoch Runtime: 6.38 seconds\n",
            "Epoch: 23, Train Loss: 0.774218, Epoch Runtime: 6.62 seconds\n",
            "Epoch: 24, Train Loss: 0.683089, Epoch Runtime: 8.57 seconds\n",
            "Epoch: 25, Train Loss: 0.869582, Epoch Runtime: 6.60 seconds\n",
            "Epoch: 26, Train Loss: 0.777461, Epoch Runtime: 6.67 seconds\n",
            "Epoch: 27, Train Loss: 0.624899, Epoch Runtime: 8.67 seconds\n",
            "Epoch: 28, Train Loss: 1.052721, Epoch Runtime: 6.56 seconds\n",
            "Epoch: 29, Train Loss: 1.080372, Epoch Runtime: 7.94 seconds\n",
            "Epoch: 30, Train Loss: 0.933055, Epoch Runtime: 7.70 seconds\n",
            "Epoch: 31, Train Loss: 0.358826, Epoch Runtime: 6.73 seconds\n",
            "Epoch: 32, Train Loss: 0.718418, Epoch Runtime: 8.44 seconds\n",
            "Epoch: 33, Train Loss: 0.878931, Epoch Runtime: 8.20 seconds\n",
            "Epoch: 34, Train Loss: 0.805488, Epoch Runtime: 9.37 seconds\n",
            "Epoch: 35, Train Loss: 0.659685, Epoch Runtime: 6.94 seconds\n",
            "Epoch: 36, Train Loss: 0.843863, Epoch Runtime: 6.83 seconds\n",
            "Epoch: 37, Train Loss: 1.237912, Epoch Runtime: 8.70 seconds\n",
            "Epoch: 38, Train Loss: 0.765148, Epoch Runtime: 7.84 seconds\n",
            "Epoch: 39, Train Loss: 0.881698, Epoch Runtime: 6.65 seconds\n",
            "Epoch: 40, Train Loss: 0.926365, Epoch Runtime: 7.30 seconds\n",
            "Epoch: 41, Train Loss: 1.039942, Epoch Runtime: 6.79 seconds\n",
            "Epoch: 42, Train Loss: 0.432847, Epoch Runtime: 6.65 seconds\n",
            "Epoch: 43, Train Loss: 0.741397, Epoch Runtime: 6.59 seconds\n",
            "Epoch: 44, Train Loss: 0.600640, Epoch Runtime: 8.50 seconds\n",
            "Epoch: 45, Train Loss: 0.504304, Epoch Runtime: 8.96 seconds\n",
            "Epoch: 46, Train Loss: 0.530858, Epoch Runtime: 7.50 seconds\n",
            "Epoch: 47, Train Loss: 0.780782, Epoch Runtime: 7.03 seconds\n",
            "Epoch: 48, Train Loss: 0.503250, Epoch Runtime: 8.48 seconds\n",
            "Epoch: 49, Train Loss: 0.473715, Epoch Runtime: 7.60 seconds\n",
            "Epoch: 50, Train Loss: 0.731308, Epoch Runtime: 8.41 seconds\n",
            "Epoch: 51, Train Loss: 0.776575, Epoch Runtime: 8.01 seconds\n",
            "Epoch: 52, Train Loss: 0.406989, Epoch Runtime: 7.21 seconds\n",
            "Epoch: 53, Train Loss: 0.772800, Epoch Runtime: 7.79 seconds\n",
            "Epoch: 54, Train Loss: 0.670650, Epoch Runtime: 9.10 seconds\n",
            "Epoch: 55, Train Loss: 0.811579, Epoch Runtime: 8.71 seconds\n",
            "Epoch: 56, Train Loss: 0.666445, Epoch Runtime: 8.39 seconds\n",
            "Epoch: 57, Train Loss: 0.466524, Epoch Runtime: 6.47 seconds\n",
            "Epoch: 58, Train Loss: 0.660883, Epoch Runtime: 6.63 seconds\n",
            "Epoch: 59, Train Loss: 0.339473, Epoch Runtime: 6.60 seconds\n",
            "Epoch: 60, Train Loss: 0.506765, Epoch Runtime: 6.62 seconds\n",
            "Epoch: 61, Train Loss: 0.407587, Epoch Runtime: 6.65 seconds\n",
            "Epoch: 62, Train Loss: 0.627606, Epoch Runtime: 6.66 seconds\n",
            "Epoch: 63, Train Loss: 0.287803, Epoch Runtime: 8.05 seconds\n",
            "Epoch: 64, Train Loss: 0.358145, Epoch Runtime: 9.22 seconds\n",
            "Epoch: 65, Train Loss: 0.607484, Epoch Runtime: 6.63 seconds\n",
            "Epoch: 66, Train Loss: 0.268023, Epoch Runtime: 6.60 seconds\n",
            "Epoch: 67, Train Loss: 0.955966, Epoch Runtime: 8.17 seconds\n",
            "Epoch: 68, Train Loss: 0.383857, Epoch Runtime: 8.49 seconds\n",
            "Epoch: 69, Train Loss: 0.408063, Epoch Runtime: 7.93 seconds\n",
            "Epoch: 70, Train Loss: 0.424953, Epoch Runtime: 6.57 seconds\n",
            "Epoch: 71, Train Loss: 0.773173, Epoch Runtime: 6.48 seconds\n",
            "Epoch: 72, Train Loss: 0.331681, Epoch Runtime: 6.55 seconds\n",
            "Epoch: 73, Train Loss: 0.518656, Epoch Runtime: 8.70 seconds\n",
            "Epoch: 74, Train Loss: 0.634772, Epoch Runtime: 6.51 seconds\n",
            "Epoch: 75, Train Loss: 0.385543, Epoch Runtime: 6.58 seconds\n",
            "Epoch: 76, Train Loss: 0.648533, Epoch Runtime: 6.43 seconds\n",
            "Epoch: 77, Train Loss: 0.396852, Epoch Runtime: 8.29 seconds\n",
            "Epoch: 78, Train Loss: 0.445417, Epoch Runtime: 6.41 seconds\n",
            "Epoch: 79, Train Loss: 0.477782, Epoch Runtime: 6.56 seconds\n",
            "Epoch: 80, Train Loss: 0.466644, Epoch Runtime: 7.84 seconds\n",
            "Epoch: 81, Train Loss: 0.293765, Epoch Runtime: 6.49 seconds\n",
            "Epoch: 82, Train Loss: 0.368209, Epoch Runtime: 7.38 seconds\n",
            "Epoch: 83, Train Loss: 0.556218, Epoch Runtime: 6.67 seconds\n",
            "Epoch: 84, Train Loss: 0.406962, Epoch Runtime: 6.59 seconds\n",
            "Epoch: 85, Train Loss: 0.341186, Epoch Runtime: 8.33 seconds\n",
            "Epoch: 86, Train Loss: 0.360409, Epoch Runtime: 6.60 seconds\n",
            "Epoch: 87, Train Loss: 0.203247, Epoch Runtime: 7.49 seconds\n",
            "Epoch: 88, Train Loss: 0.253744, Epoch Runtime: 6.53 seconds\n",
            "Epoch: 89, Train Loss: 0.688184, Epoch Runtime: 6.37 seconds\n",
            "Epoch: 90, Train Loss: 0.204765, Epoch Runtime: 7.65 seconds\n",
            "Epoch: 91, Train Loss: 0.231221, Epoch Runtime: 6.37 seconds\n",
            "Epoch: 92, Train Loss: 0.258586, Epoch Runtime: 6.46 seconds\n",
            "Epoch: 93, Train Loss: 0.546167, Epoch Runtime: 6.51 seconds\n",
            "Epoch: 94, Train Loss: 0.562360, Epoch Runtime: 7.32 seconds\n",
            "Epoch: 95, Train Loss: 0.657899, Epoch Runtime: 6.49 seconds\n",
            "Epoch: 96, Train Loss: 0.205738, Epoch Runtime: 7.57 seconds\n",
            "Epoch: 97, Train Loss: 0.577646, Epoch Runtime: 7.05 seconds\n",
            "Epoch: 98, Train Loss: 0.688404, Epoch Runtime: 6.57 seconds\n",
            "Epoch: 99, Train Loss: 0.433856, Epoch Runtime: 7.98 seconds\n",
            "Epoch: 100, Train Loss: 0.379422, Epoch Runtime: 6.63 seconds\n",
            "Epoch: 101, Train Loss: 0.708468, Epoch Runtime: 9.31 seconds\n",
            "Epoch: 102, Train Loss: 0.264979, Epoch Runtime: 6.68 seconds\n",
            "Epoch: 103, Train Loss: 0.176115, Epoch Runtime: 6.49 seconds\n",
            "Epoch: 104, Train Loss: 0.154460, Epoch Runtime: 6.68 seconds\n",
            "Epoch: 105, Train Loss: 0.615880, Epoch Runtime: 6.65 seconds\n",
            "Epoch: 106, Train Loss: 0.205763, Epoch Runtime: 6.69 seconds\n",
            "Epoch: 107, Train Loss: 0.343227, Epoch Runtime: 6.63 seconds\n",
            "Epoch: 108, Train Loss: 0.746093, Epoch Runtime: 6.67 seconds\n",
            "Epoch: 109, Train Loss: 0.656826, Epoch Runtime: 6.89 seconds\n",
            "Epoch: 110, Train Loss: 0.489319, Epoch Runtime: 8.61 seconds\n",
            "Epoch: 111, Train Loss: 0.338950, Epoch Runtime: 9.12 seconds\n",
            "Epoch: 112, Train Loss: 0.832113, Epoch Runtime: 9.13 seconds\n",
            "Epoch: 113, Train Loss: 0.376003, Epoch Runtime: 9.18 seconds\n",
            "Epoch: 114, Train Loss: 0.315604, Epoch Runtime: 9.04 seconds\n",
            "Epoch: 115, Train Loss: 0.316726, Epoch Runtime: 9.07 seconds\n",
            "Epoch: 116, Train Loss: 0.140093, Epoch Runtime: 9.27 seconds\n",
            "Epoch: 117, Train Loss: 0.388253, Epoch Runtime: 9.30 seconds\n",
            "Epoch: 118, Train Loss: 0.149931, Epoch Runtime: 9.19 seconds\n",
            "Epoch: 119, Train Loss: 0.118203, Epoch Runtime: 9.16 seconds\n",
            "Epoch: 120, Train Loss: 0.222507, Epoch Runtime: 9.11 seconds\n",
            "Epoch: 121, Train Loss: 0.736085, Epoch Runtime: 9.16 seconds\n",
            "Epoch: 122, Train Loss: 0.475782, Epoch Runtime: 9.20 seconds\n",
            "Epoch: 123, Train Loss: 0.477577, Epoch Runtime: 9.17 seconds\n",
            "Epoch: 124, Train Loss: 0.075574, Epoch Runtime: 9.23 seconds\n",
            "Epoch: 125, Train Loss: 0.354412, Epoch Runtime: 9.11 seconds\n",
            "Epoch: 126, Train Loss: 0.589066, Epoch Runtime: 9.11 seconds\n",
            "Epoch: 127, Train Loss: 0.434725, Epoch Runtime: 9.15 seconds\n",
            "Epoch: 128, Train Loss: 0.252703, Epoch Runtime: 9.12 seconds\n",
            "Epoch: 129, Train Loss: 0.106344, Epoch Runtime: 9.15 seconds\n",
            "Epoch: 130, Train Loss: 0.801136, Epoch Runtime: 9.20 seconds\n",
            "Epoch: 131, Train Loss: 0.192287, Epoch Runtime: 9.25 seconds\n",
            "Epoch: 132, Train Loss: 0.176813, Epoch Runtime: 9.27 seconds\n",
            "Epoch: 133, Train Loss: 0.414336, Epoch Runtime: 9.29 seconds\n",
            "Epoch: 134, Train Loss: 0.364984, Epoch Runtime: 9.15 seconds\n",
            "Epoch: 135, Train Loss: 0.162129, Epoch Runtime: 9.13 seconds\n",
            "Epoch: 136, Train Loss: 0.078900, Epoch Runtime: 9.20 seconds\n",
            "Epoch: 137, Train Loss: 0.241369, Epoch Runtime: 9.14 seconds\n",
            "Epoch: 138, Train Loss: 0.249840, Epoch Runtime: 8.81 seconds\n",
            "Epoch: 139, Train Loss: 0.318425, Epoch Runtime: 9.01 seconds\n",
            "Epoch: 140, Train Loss: 0.604902, Epoch Runtime: 9.28 seconds\n",
            "Epoch: 141, Train Loss: 0.269376, Epoch Runtime: 9.26 seconds\n",
            "Epoch: 142, Train Loss: 0.241758, Epoch Runtime: 9.23 seconds\n",
            "Epoch: 143, Train Loss: 0.584787, Epoch Runtime: 9.15 seconds\n",
            "Epoch: 144, Train Loss: 0.876034, Epoch Runtime: 9.12 seconds\n",
            "Epoch: 145, Train Loss: 0.395874, Epoch Runtime: 9.16 seconds\n",
            "Epoch: 146, Train Loss: 0.533366, Epoch Runtime: 9.15 seconds\n",
            "Epoch: 147, Train Loss: 0.293948, Epoch Runtime: 9.16 seconds\n",
            "Epoch: 148, Train Loss: 0.185163, Epoch Runtime: 9.14 seconds\n",
            "Epoch: 149, Train Loss: 0.350157, Epoch Runtime: 9.15 seconds\n",
            "Epoch: 150, Train Loss: 0.319768, Epoch Runtime: 9.07 seconds\n",
            "Epoch: 151, Train Loss: 0.181467, Epoch Runtime: 9.16 seconds\n",
            "Epoch: 152, Train Loss: 1.172122, Epoch Runtime: 9.12 seconds\n",
            "Epoch: 153, Train Loss: 0.543589, Epoch Runtime: 9.11 seconds\n",
            "Epoch: 154, Train Loss: 0.546158, Epoch Runtime: 9.18 seconds\n",
            "Epoch: 155, Train Loss: 0.510410, Epoch Runtime: 9.19 seconds\n",
            "Epoch: 156, Train Loss: 0.357794, Epoch Runtime: 9.11 seconds\n",
            "Epoch: 157, Train Loss: 0.341788, Epoch Runtime: 9.21 seconds\n",
            "Epoch: 158, Train Loss: 0.433204, Epoch Runtime: 9.18 seconds\n",
            "Epoch: 159, Train Loss: 0.102933, Epoch Runtime: 9.12 seconds\n",
            "Epoch: 160, Train Loss: 0.330350, Epoch Runtime: 9.17 seconds\n",
            "Epoch: 161, Train Loss: 0.365457, Epoch Runtime: 9.14 seconds\n",
            "Epoch: 162, Train Loss: 0.268353, Epoch Runtime: 9.15 seconds\n",
            "Epoch: 163, Train Loss: 0.251766, Epoch Runtime: 9.12 seconds\n",
            "Epoch: 164, Train Loss: 0.164801, Epoch Runtime: 9.15 seconds\n",
            "Epoch: 165, Train Loss: 0.706758, Epoch Runtime: 9.12 seconds\n",
            "Epoch: 166, Train Loss: 0.160742, Epoch Runtime: 9.16 seconds\n",
            "Epoch: 167, Train Loss: 0.612772, Epoch Runtime: 9.12 seconds\n",
            "Epoch: 168, Train Loss: 0.176304, Epoch Runtime: 9.15 seconds\n",
            "Epoch: 169, Train Loss: 0.430704, Epoch Runtime: 8.93 seconds\n",
            "Epoch: 170, Train Loss: 0.131890, Epoch Runtime: 9.19 seconds\n",
            "Epoch: 171, Train Loss: 0.231671, Epoch Runtime: 9.17 seconds\n",
            "Epoch: 172, Train Loss: 0.258500, Epoch Runtime: 8.48 seconds\n",
            "Epoch: 173, Train Loss: 0.236483, Epoch Runtime: 8.60 seconds\n",
            "Epoch: 174, Train Loss: 0.178596, Epoch Runtime: 8.31 seconds\n",
            "Epoch: 175, Train Loss: 0.477382, Epoch Runtime: 9.43 seconds\n",
            "Epoch: 176, Train Loss: 0.313837, Epoch Runtime: 9.12 seconds\n",
            "Epoch: 177, Train Loss: 0.182420, Epoch Runtime: 8.76 seconds\n",
            "Epoch: 178, Train Loss: 0.452961, Epoch Runtime: 8.12 seconds\n",
            "Epoch: 179, Train Loss: 0.558942, Epoch Runtime: 9.41 seconds\n",
            "Epoch: 180, Train Loss: 0.104979, Epoch Runtime: 9.52 seconds\n",
            "Epoch: 181, Train Loss: 0.654998, Epoch Runtime: 9.16 seconds\n",
            "Epoch: 182, Train Loss: 0.378354, Epoch Runtime: 9.17 seconds\n",
            "Epoch: 183, Train Loss: 0.423447, Epoch Runtime: 6.62 seconds\n",
            "Epoch: 184, Train Loss: 0.259842, Epoch Runtime: 6.62 seconds\n",
            "Epoch: 185, Train Loss: 0.112604, Epoch Runtime: 7.44 seconds\n",
            "Epoch: 186, Train Loss: 0.549666, Epoch Runtime: 6.62 seconds\n",
            "Epoch: 187, Train Loss: 0.343230, Epoch Runtime: 6.62 seconds\n",
            "Epoch: 188, Train Loss: 0.527941, Epoch Runtime: 6.59 seconds\n",
            "Epoch: 189, Train Loss: 0.283289, Epoch Runtime: 6.61 seconds\n",
            "Epoch: 190, Train Loss: 0.023058, Epoch Runtime: 6.64 seconds\n",
            "Epoch: 191, Train Loss: 0.099931, Epoch Runtime: 6.62 seconds\n",
            "Epoch: 192, Train Loss: 0.292799, Epoch Runtime: 6.67 seconds\n",
            "Epoch: 193, Train Loss: 0.473693, Epoch Runtime: 6.63 seconds\n",
            "Epoch: 194, Train Loss: 0.221416, Epoch Runtime: 6.60 seconds\n",
            "Epoch: 195, Train Loss: 0.334955, Epoch Runtime: 8.09 seconds\n",
            "Epoch: 196, Train Loss: 0.572035, Epoch Runtime: 7.35 seconds\n",
            "Epoch: 197, Train Loss: 0.175064, Epoch Runtime: 9.19 seconds\n",
            "Epoch: 198, Train Loss: 0.530186, Epoch Runtime: 9.36 seconds\n",
            "Epoch: 199, Train Loss: 0.200802, Epoch Runtime: 9.60 seconds\n",
            "Epoch: 200, Train Loss: 0.267692, Epoch Runtime: 9.61 seconds\n",
            "Total Training Time: 1602.41 seconds\n"
          ]
        },
        {
          "data": {
            "image/png": "[encoded data removed]",
            "text/plain": [
              "<Figure size 1000x600 with 1 Axes>"
            ]
          },
          "metadata": {},
          "output_type": "display_data"
        }
      ],
      "source": [
        "loss_fn = nn.CrossEntropyLoss()\n",
        "optimizer = optim.SGD(model.parameters(), lr=0.01)\n",
        "# Training loop\n",
        "num_epochs = 200\n",
        "total_start_time = time.time()\n",
        "losses=[]\n",
        "for epoch in range(num_epochs):\n",
        "    start_time = time.time()\n",
        "    for imgs, labels in train_loader:\n",
        "        imgs, labels = imgs.to(device), labels.to(device)\n",
        "        outputs=model(imgs)\n",
        "        loss = loss_fn(outputs, labels)\n",
        "        optimizer.zero_grad()\n",
        "        loss.backward()\n",
        "        optimizer.step()\n",
        "    # Calculate training time\n",
        "    end_time = time.time()\n",
        "    training_time = end_time - start_time\n",
        "    print(f\"Epoch: {epoch+1}, Train Loss: {float(loss):.6f}, Epoch Runtime: {training_time:.2f} seconds\")\n",
        "    losses.append(float(loss))\n",
        "\n",
        "# Print total training time\n",
        "total_end_time = time.time()\n",
        "total_training_time = total_end_time - total_start_time\n",
        "print(f'Total Training Time: {total_training_time:.2f} seconds')\n",
        "# Plotting loss vs. epochs\n",
        "plt.figure(figsize=(10, 6))\n",
        "plt.plot(range(num_epochs), losses, marker='o', linestyle='-', color='b')\n",
        "plt.title(\"Loss vs Epochs\")\n",
        "plt.xlabel(\"Epochs\")\n",
        "plt.ylabel(\"Loss\")\n",
        "plt.grid(True)\n",
        "plt.show()"
      ]
    },
    {
      "cell_type": "code",
      "execution_count": null,
      "metadata": {
        "id": "NhwIHRuBFSZF"
      },
      "outputs": [],
      "source": [
        "val_dataset = torchvision.datasets.CIFAR10('../data-unversioned/p1ch7/', train=False, download=False,\n",
        "                          transform=transforms.ToTensor())"
      ]
    },
    {
      "cell_type": "code",
      "execution_count": null,
      "metadata": {
        "colab": {
          "base_uri": "https://localhost:8080/"
        },
        "id": "zf8d_F_SFYV9",
        "outputId": "2493d3a2-839a-4dd3-cb0a-78d0e8a8bb0b"
      },
      "outputs": [
        {
          "data": {
            "text/plain": [
              "torch.Size([3, 32, 32, 10000])"
            ]
          },
          "execution_count": 30,
          "metadata": {},
          "output_type": "execute_result"
        }
      ],
      "source": [
        "imgs = torch.stack([img_t for img_t, _ in val_dataset], dim=3)\n",
        "imgs.shape"
      ]
    },
    {
      "cell_type": "code",
      "execution_count": null,
      "metadata": {
        "colab": {
          "base_uri": "https://localhost:8080/"
        },
        "id": "LkyPp-KYFccH",
        "outputId": "0563ac15-441f-4c6b-f467-569cc613a389"
      },
      "outputs": [
        {
          "name": "stdout",
          "output_type": "stream",
          "text": [
            "tensor([0.4942, 0.4851, 0.4504])\n",
            "tensor([0.2467, 0.2429, 0.2616])\n"
          ]
        }
      ],
      "source": [
        "val_mean=imgs.view(3, -1).mean(dim=1)\n",
        "val_std=imgs.view(3, -1).std(dim=1)\n",
        "print(val_mean)\n",
        "print(val_std)\n"
      ]
    },
    {
      "cell_type": "code",
      "execution_count": null,
      "metadata": {
        "colab": {
          "base_uri": "https://localhost:8080/"
        },
        "id": "iaYGXiVhFj-m",
        "outputId": "a982994e-542d-422a-fdcd-61bd735d9fed"
      },
      "outputs": [
        {
          "data": {
            "text/plain": [
              "Normalize(mean=tensor([0.4942, 0.4851, 0.4504]), std=tensor([0.2467, 0.2429, 0.2616]))"
            ]
          },
          "execution_count": 32,
          "metadata": {},
          "output_type": "execute_result"
        }
      ],
      "source": [
        "transforms.Normalize(val_mean, val_std)"
      ]
    },
    {
      "cell_type": "code",
      "execution_count": null,
      "metadata": {
        "id": "eJzl22a2FGgr"
      },
      "outputs": [],
      "source": [
        "transformed_val_dataset = torchvision.datasets.CIFAR10(\n",
        "    '../data-unversioned/p1ch7/', train=False, download=False,\n",
        "    transform=transforms.Compose([\n",
        "        transforms.ToTensor(),\n",
        "        transforms.Normalize(train_mean,\n",
        "                             train_std)\n",
        "    ]))\n",
        "val_loader = torch.utils.data.DataLoader(transformed_val_dataset, batch_size=64, shuffle=False)"
      ]
    },
    {
      "cell_type": "code",
      "execution_count": null,
      "metadata": {
        "colab": {
          "base_uri": "https://localhost:8080/"
        },
        "id": "lXPkhlkJFrgr",
        "outputId": "50c1227f-f95b-4efa-8675-557b4ba9e146"
      },
      "outputs": [
        {
          "name": "stdout",
          "output_type": "stream",
          "text": [
            "Validation Accurracy:%f 0.6544\n"
          ]
        }
      ],
      "source": [
        "correct=0\n",
        "total=0\n",
        "with torch.no_grad():\n",
        "  for imgs, labels in val_loader:\n",
        "      imgs, labels = imgs.to(device), labels.to(device)\n",
        "      batch_size=imgs.shape[0]\n",
        "      outputs=model(imgs)\n",
        "      _,predicted=torch.max(outputs,dim=1)\n",
        "      total+=labels.shape[0]\n",
        "      correct+=int((predicted==labels).sum())\n",
        "print(\"Validation Accurracy:%f\", correct/total)"
      ]
    },
    {
      "cell_type": "code",
      "execution_count": null,
      "metadata": {
        "id": "8anUzzslXxyZ"
      },
      "outputs": [],
      "source": [
        "def get_model_size(model):\n",
        "    total_params = sum(p.numel() for p in model.parameters())\n",
        "    trainable_params = sum(p.numel() for p in model.parameters() if p.requires_grad)\n",
        "    return total_params, trainable_params"
      ]
    },
    {
      "cell_type": "code",
      "execution_count": null,
      "metadata": {
        "colab": {
          "base_uri": "https://localhost:8080/"
        },
        "id": "RTwIGt-toFzS",
        "outputId": "31826457-db6b-4ac0-d077-354efb11b002"
      },
      "outputs": [
        {
          "name": "stdout",
          "output_type": "stream",
          "text": [
            "  Total parameters: 42274\n",
            "  Trainable parameters: 42274\n"
          ]
        }
      ],
      "source": [
        "total_params, trainable_params = get_model_size(model)\n",
        "print(f\"  Total parameters: {total_params}\")\n",
        "print(f\"  Trainable parameters: {trainable_params}\")"
      ]
    },
    {
      "cell_type": "code",
      "execution_count": null,
      "metadata": {
        "id": "zGufDty4oFzS"
      },
      "outputs": [],
      "source": []
    },
    {
      "cell_type": "code",
      "execution_count": null,
      "metadata": {
        "id": "x7IFitn8oFzS"
      },
      "outputs": [],
      "source": []
    },
    {
      "cell_type": "code",
      "execution_count": null,
      "metadata": {
        "id": "av8u8AFUoFzS"
      },
      "outputs": [],
      "source": []
    }
  ],
  "metadata": {
    "colab": {
      "provenance": [],
      "include_colab_link": true
    },
    "kernelspec": {
      "display_name": "Python 3 (ipykernel)",
      "language": "python",
      "name": "python3"
    },
    "language_info": {
      "codemirror_mode": {
        "name": "ipython",
        "version": 3
      },
      "file_extension": ".py",
      "mimetype": "text/x-python",
      "name": "python",
      "nbconvert_exporter": "python",
      "pygments_lexer": "ipython3",
      "version": "3.12.7"
    }
  },
  "nbformat": 4,
  "nbformat_minor": 0
}