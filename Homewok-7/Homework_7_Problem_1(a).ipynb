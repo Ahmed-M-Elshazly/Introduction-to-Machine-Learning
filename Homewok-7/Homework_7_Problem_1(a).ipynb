{
  "cells": [
    {
      "cell_type": "markdown",
      "metadata": {
        "id": "view-in-github",
        "colab_type": "text"
      },
      "source": [
        "<a href=\"https://colab.research.google.com/github/Ahmed-M-Elshazly/Homework-7/blob/main/Homework_7_Problem_1(a).ipynb\" target=\"_parent\"><img src=\"https://colab.research.google.com/assets/colab-badge.svg\" alt=\"Open In Colab\"/></a>"
      ]
    },
    {
      "cell_type": "markdown",
      "metadata": {
        "id": "iHDVHfssy6Qz"
      },
      "source": [
        "#Homework 7\n",
        "#Problem 1-a\n",
        "#Ahmed Elshazly\n",
        "#801420724"
      ]
    },
    {
      "cell_type": "code",
      "execution_count": null,
      "metadata": {
        "id": "Hep86coQ0y9F"
      },
      "outputs": [],
      "source": [
        "import torch\n",
        "import torch.nn as nn\n",
        "import torch.optim as optim\n",
        "import torchvision\n",
        "import torchvision.transforms as transforms\n",
        "from sklearn.metrics import confusion_matrix, f1_score\n",
        "import time\n",
        "from matplotlib import pyplot as plt\n",
        "import numpy as np"
      ]
    },
    {
      "cell_type": "code",
      "execution_count": null,
      "metadata": {
        "id": "D9naEwyXBVtP"
      },
      "outputs": [],
      "source": [
        "# Set device\n",
        "device = torch.device(\"cuda:0\" if torch.cuda.is_available() else \"cpu\")"
      ]
    },
    {
      "cell_type": "code",
      "execution_count": null,
      "metadata": {
        "colab": {
          "base_uri": "https://localhost:8080/"
        },
        "id": "YHkVUNNr07yB",
        "outputId": "6eb2c3df-ddad-48d2-bd1e-ad316e20034b"
      },
      "outputs": [
        {
          "name": "stdout",
          "output_type": "stream",
          "text": [
            "Files already downloaded and verified\n",
            "Files already downloaded and verified\n"
          ]
        }
      ],
      "source": [
        "# Load CIFAR-10 dataset to calculate mean and std\n",
        "train_dataset = torchvision.datasets.CIFAR10('../data-unversioned/p1ch7/', train=True, download=True)\n",
        "val_dataset = torchvision.datasets.CIFAR10('../data-unversioned/p1ch7/', train=False, download=True)"
      ]
    },
    {
      "cell_type": "code",
      "execution_count": null,
      "metadata": {
        "colab": {
          "base_uri": "https://localhost:8080/"
        },
        "id": "7r6zOQ6m2d4C",
        "outputId": "1a1f7e40-9ecf-4aa1-c11e-5188cd02cd05"
      },
      "outputs": [
        {
          "data": {
            "text/plain": [
              "(<PIL.Image.Image image mode=RGB size=32x32>, 8, 'ship')"
            ]
          },
          "execution_count": 41,
          "metadata": {},
          "output_type": "execute_result"
        }
      ],
      "source": [
        "class_names = ['airplane', 'automobile', 'bird', 'cat', 'deer', 'dog', 'frog', 'horse', 'ship', 'truck']\n",
        "img, label = train_dataset[100]\n",
        "img, label, class_names[label]"
      ]
    },
    {
      "cell_type": "code",
      "execution_count": null,
      "metadata": {
        "colab": {
          "base_uri": "https://localhost:8080/"
        },
        "id": "VdEKFBd_3lrf",
        "outputId": "72609413-75d7-4e1e-dbcf-01b9954b0dc1"
      },
      "outputs": [
        {
          "data": {
            "text/plain": [
              "50000"
            ]
          },
          "execution_count": 42,
          "metadata": {},
          "output_type": "execute_result"
        }
      ],
      "source": [
        "len(train_dataset)"
      ]
    },
    {
      "cell_type": "code",
      "execution_count": null,
      "metadata": {
        "colab": {
          "base_uri": "https://localhost:8080/",
          "height": 430
        },
        "id": "rGxLyiU14Ydc",
        "outputId": "e306ff33-10c9-42a1-a3b8-4bb94f6a36d4"
      },
      "outputs": [
        {
          "data": {
            "image/png": "[encoded data removed]",
            "text/plain": [
              "<Figure size 640x480 with 1 Axes>"
            ]
          },
          "metadata": {},
          "output_type": "display_data"
        }
      ],
      "source": [
        "plt.imshow(img)\n",
        "plt.show()"
      ]
    },
    {
      "cell_type": "code",
      "execution_count": null,
      "metadata": {
        "colab": {
          "base_uri": "https://localhost:8080/"
        },
        "id": "UkTGbkNd4mY4",
        "outputId": "c03ca739-983f-4330-8b8f-2bece6da854e"
      },
      "outputs": [
        {
          "data": {
            "text/plain": [
              "torch.Size([3, 32, 32])"
            ]
          },
          "execution_count": 44,
          "metadata": {},
          "output_type": "execute_result"
        }
      ],
      "source": [
        "from torchvision import transforms\n",
        "\n",
        "to_tensor = transforms.ToTensor()\n",
        "img_t = to_tensor(img)\n",
        "img_t.shape"
      ]
    },
    {
      "cell_type": "code",
      "execution_count": null,
      "metadata": {
        "colab": {
          "base_uri": "https://localhost:8080/"
        },
        "id": "G2pj3M836NT0",
        "outputId": "d82d4015-2382-426d-82af-2eb7dda560e7"
      },
      "outputs": [
        {
          "data": {
            "text/plain": [
              "torch.Size([3, 32, 32, 50000])"
            ]
          },
          "execution_count": 45,
          "metadata": {},
          "output_type": "execute_result"
        }
      ],
      "source": [
        "train_dataset = torchvision.datasets.CIFAR10('../data-unversioned/p1ch7/', train=True, download=False,\n",
        "                          transform=transforms.ToTensor())\n",
        "imgs = torch.stack([img_t for img_t, _ in train_dataset], dim=3)\n",
        "imgs.shape"
      ]
    },
    {
      "cell_type": "code",
      "execution_count": null,
      "metadata": {
        "colab": {
          "base_uri": "https://localhost:8080/",
          "height": 430
        },
        "id": "ffgriKfr8D3J",
        "outputId": "0d0f0357-e1af-47ce-bfda-28d46cb58e17"
      },
      "outputs": [
        {
          "data": {
            "image/png": "[encoded data removed]",
            "text/plain": [
              "<Figure size 640x480 with 1 Axes>"
            ]
          },
          "metadata": {},
          "output_type": "display_data"
        }
      ],
      "source": [
        "plt.imshow(img_t.permute(1, 2, 0))  # <1>\n",
        "plt.show()"
      ]
    },
    {
      "cell_type": "code",
      "execution_count": null,
      "metadata": {
        "colab": {
          "base_uri": "https://localhost:8080/"
        },
        "id": "0fauThWj8EdP",
        "outputId": "ebe6b942-e76f-495d-d0a4-fcee0ea09975"
      },
      "outputs": [
        {
          "name": "stdout",
          "output_type": "stream",
          "text": [
            "tensor([0.4914, 0.4822, 0.4465])\n",
            "tensor([0.2470, 0.2435, 0.2616])\n"
          ]
        }
      ],
      "source": [
        "train_mean=imgs.view(3, -1).mean(dim=1)\n",
        "train_std=imgs.view(3, -1).std(dim=1)\n",
        "print(train_mean)\n",
        "print(train_std)\n"
      ]
    },
    {
      "cell_type": "code",
      "execution_count": null,
      "metadata": {
        "colab": {
          "base_uri": "https://localhost:8080/"
        },
        "id": "IL7MIlnq8mGi",
        "outputId": "0e6c2ad7-9cb5-45be-88e9-a4444241c185"
      },
      "outputs": [
        {
          "data": {
            "text/plain": [
              "Normalize(mean=tensor([0.4914, 0.4822, 0.4465]), std=tensor([0.2470, 0.2435, 0.2616]))"
            ]
          },
          "execution_count": 48,
          "metadata": {},
          "output_type": "execute_result"
        }
      ],
      "source": [
        "transforms.Normalize(train_mean, train_std)\n"
      ]
    },
    {
      "cell_type": "code",
      "execution_count": null,
      "metadata": {
        "id": "k_lIbn4_864u"
      },
      "outputs": [],
      "source": [
        "transformed_train_dataset = torchvision.datasets.CIFAR10(\n",
        "    '../data-unversioned/p1ch7/', train=True, download=False,\n",
        "    transform=transforms.Compose([\n",
        "        transforms.ToTensor(),\n",
        "        transforms.Normalize(train_mean,\n",
        "                             train_std)\n",
        "    ]))\n",
        "train_loader = torch.utils.data.DataLoader(transformed_train_dataset, batch_size=64, shuffle=True)"
      ]
    },
    {
      "cell_type": "code",
      "execution_count": null,
      "metadata": {
        "id": "ynOLL2IY_N3a"
      },
      "outputs": [],
      "source": []
    },
    {
      "cell_type": "code",
      "execution_count": null,
      "metadata": {
        "id": "ZSBI3xwxArTi"
      },
      "outputs": [],
      "source": [
        "class CNN(nn.Module):\n",
        "    def __init__(self):\n",
        "        super(CNN, self).__init__()\n",
        "        self.conv1 = nn.Conv2d(3, 32, kernel_size=3, padding=1)\n",
        "        self.relu = nn.ReLU()\n",
        "        self.pool = nn.MaxPool2d(2)\n",
        "        self.fc1 = nn.Linear(32 * 16 * 16, 256)\n",
        "        self.tanh = nn.Tanh()\n",
        "        self.fc2 = nn.Linear(256, 10)\n",
        "\n",
        "    def forward(self, x):\n",
        "        x = self.relu(self.conv1(x))\n",
        "        x = self.pool(x)\n",
        "        x = x.view(-1,32 * 16 * 16)\n",
        "        x = self.tanh(self.fc1(x))\n",
        "        x = self.fc2(x)\n",
        "        return x\n",
        "\n",
        "\n",
        "model = CNN().to(device)"
      ]
    },
    {
      "cell_type": "code",
      "execution_count": null,
      "metadata": {
        "colab": {
          "base_uri": "https://localhost:8080/",
          "height": 1000
        },
        "id": "3jtHoziOBljm",
        "outputId": "0bee42ea-5786-4c05-d004-fcfb341de66d"
      },
      "outputs": [
        {
          "name": "stdout",
          "output_type": "stream",
          "text": [
            "Epoch: 1, Train Loss: 1.859944, Epoch Runtime: 6.53 seconds\n",
            "Epoch: 2, Train Loss: 1.488036, Epoch Runtime: 6.20 seconds\n",
            "Epoch: 3, Train Loss: 0.825769, Epoch Runtime: 6.24 seconds\n",
            "Epoch: 4, Train Loss: 1.234654, Epoch Runtime: 6.24 seconds\n",
            "Epoch: 5, Train Loss: 0.858160, Epoch Runtime: 6.73 seconds\n",
            "Epoch: 6, Train Loss: 1.067543, Epoch Runtime: 6.25 seconds\n",
            "Epoch: 7, Train Loss: 0.799039, Epoch Runtime: 6.26 seconds\n",
            "Epoch: 8, Train Loss: 0.686175, Epoch Runtime: 6.19 seconds\n",
            "Epoch: 9, Train Loss: 0.705472, Epoch Runtime: 6.28 seconds\n",
            "Epoch: 10, Train Loss: 0.747947, Epoch Runtime: 6.57 seconds\n",
            "Epoch: 11, Train Loss: 0.860181, Epoch Runtime: 6.25 seconds\n",
            "Epoch: 12, Train Loss: 0.652778, Epoch Runtime: 6.37 seconds\n",
            "Epoch: 13, Train Loss: 0.439254, Epoch Runtime: 6.24 seconds\n",
            "Epoch: 14, Train Loss: 0.552400, Epoch Runtime: 6.36 seconds\n",
            "Epoch: 15, Train Loss: 0.576249, Epoch Runtime: 6.23 seconds\n",
            "Epoch: 16, Train Loss: 0.682315, Epoch Runtime: 6.28 seconds\n",
            "Epoch: 17, Train Loss: 0.448545, Epoch Runtime: 6.23 seconds\n",
            "Epoch: 18, Train Loss: 0.328342, Epoch Runtime: 6.23 seconds\n",
            "Epoch: 19, Train Loss: 1.010460, Epoch Runtime: 6.95 seconds\n",
            "Epoch: 20, Train Loss: 0.481292, Epoch Runtime: 7.36 seconds\n",
            "Epoch: 21, Train Loss: 0.404658, Epoch Runtime: 6.14 seconds\n",
            "Epoch: 22, Train Loss: 0.186976, Epoch Runtime: 6.65 seconds\n",
            "Epoch: 23, Train Loss: 0.230744, Epoch Runtime: 6.68 seconds\n",
            "Epoch: 24, Train Loss: 0.234730, Epoch Runtime: 6.23 seconds\n",
            "Epoch: 25, Train Loss: 0.281850, Epoch Runtime: 6.56 seconds\n",
            "Epoch: 26, Train Loss: 0.156612, Epoch Runtime: 6.56 seconds\n",
            "Epoch: 27, Train Loss: 0.106839, Epoch Runtime: 6.52 seconds\n",
            "Epoch: 28, Train Loss: 0.088522, Epoch Runtime: 6.67 seconds\n",
            "Epoch: 29, Train Loss: 0.208917, Epoch Runtime: 6.55 seconds\n",
            "Epoch: 30, Train Loss: 0.084359, Epoch Runtime: 6.27 seconds\n",
            "Epoch: 31, Train Loss: 0.019217, Epoch Runtime: 6.07 seconds\n",
            "Epoch: 32, Train Loss: 0.046370, Epoch Runtime: 6.40 seconds\n",
            "Epoch: 33, Train Loss: 0.026198, Epoch Runtime: 6.47 seconds\n",
            "Epoch: 34, Train Loss: 0.050475, Epoch Runtime: 6.53 seconds\n",
            "Epoch: 35, Train Loss: 0.052831, Epoch Runtime: 6.66 seconds\n",
            "Epoch: 36, Train Loss: 0.033772, Epoch Runtime: 6.77 seconds\n",
            "Epoch: 37, Train Loss: 0.049410, Epoch Runtime: 6.68 seconds\n",
            "Epoch: 38, Train Loss: 0.050075, Epoch Runtime: 6.58 seconds\n",
            "Epoch: 39, Train Loss: 0.096459, Epoch Runtime: 6.71 seconds\n",
            "Epoch: 40, Train Loss: 0.018845, Epoch Runtime: 6.55 seconds\n",
            "Epoch: 41, Train Loss: 0.034137, Epoch Runtime: 6.31 seconds\n",
            "Epoch: 42, Train Loss: 0.028462, Epoch Runtime: 6.76 seconds\n",
            "Epoch: 43, Train Loss: 0.046051, Epoch Runtime: 6.18 seconds\n",
            "Epoch: 44, Train Loss: 0.021891, Epoch Runtime: 6.68 seconds\n",
            "Epoch: 45, Train Loss: 0.060098, Epoch Runtime: 6.68 seconds\n",
            "Epoch: 46, Train Loss: 0.018160, Epoch Runtime: 6.71 seconds\n",
            "Epoch: 47, Train Loss: 0.019371, Epoch Runtime: 6.61 seconds\n",
            "Epoch: 48, Train Loss: 0.014232, Epoch Runtime: 6.19 seconds\n",
            "Epoch: 49, Train Loss: 0.030441, Epoch Runtime: 6.62 seconds\n",
            "Epoch: 50, Train Loss: 0.027166, Epoch Runtime: 6.17 seconds\n",
            "Epoch: 51, Train Loss: 0.020970, Epoch Runtime: 6.18 seconds\n",
            "Epoch: 52, Train Loss: 0.014292, Epoch Runtime: 6.66 seconds\n",
            "Epoch: 53, Train Loss: 0.023121, Epoch Runtime: 6.74 seconds\n",
            "Epoch: 54, Train Loss: 0.018401, Epoch Runtime: 6.64 seconds\n",
            "Epoch: 55, Train Loss: 0.010670, Epoch Runtime: 6.71 seconds\n",
            "Epoch: 56, Train Loss: 0.015943, Epoch Runtime: 6.75 seconds\n",
            "Epoch: 57, Train Loss: 0.011371, Epoch Runtime: 6.70 seconds\n",
            "Epoch: 58, Train Loss: 0.012555, Epoch Runtime: 6.85 seconds\n",
            "Epoch: 59, Train Loss: 0.006905, Epoch Runtime: 6.84 seconds\n",
            "Epoch: 60, Train Loss: 0.015152, Epoch Runtime: 6.65 seconds\n",
            "Epoch: 61, Train Loss: 0.016882, Epoch Runtime: 6.95 seconds\n",
            "Epoch: 62, Train Loss: 0.013948, Epoch Runtime: 6.86 seconds\n",
            "Epoch: 63, Train Loss: 0.017214, Epoch Runtime: 6.91 seconds\n",
            "Epoch: 64, Train Loss: 0.011786, Epoch Runtime: 7.04 seconds\n",
            "Epoch: 65, Train Loss: 0.008435, Epoch Runtime: 7.00 seconds\n",
            "Epoch: 66, Train Loss: 0.008940, Epoch Runtime: 6.83 seconds\n",
            "Epoch: 67, Train Loss: 0.005797, Epoch Runtime: 6.83 seconds\n",
            "Epoch: 68, Train Loss: 0.006694, Epoch Runtime: 7.01 seconds\n",
            "Epoch: 69, Train Loss: 0.004949, Epoch Runtime: 6.92 seconds\n",
            "Epoch: 70, Train Loss: 0.008106, Epoch Runtime: 6.70 seconds\n",
            "Epoch: 71, Train Loss: 0.005992, Epoch Runtime: 6.77 seconds\n",
            "Epoch: 72, Train Loss: 0.007714, Epoch Runtime: 6.77 seconds\n",
            "Epoch: 73, Train Loss: 0.006008, Epoch Runtime: 7.03 seconds\n",
            "Epoch: 74, Train Loss: 0.002846, Epoch Runtime: 7.22 seconds\n",
            "Epoch: 75, Train Loss: 0.009145, Epoch Runtime: 7.14 seconds\n",
            "Epoch: 76, Train Loss: 0.004872, Epoch Runtime: 7.09 seconds\n",
            "Epoch: 77, Train Loss: 0.009373, Epoch Runtime: 7.18 seconds\n",
            "Epoch: 78, Train Loss: 0.006869, Epoch Runtime: 7.21 seconds\n",
            "Epoch: 79, Train Loss: 0.004850, Epoch Runtime: 7.28 seconds\n",
            "Epoch: 80, Train Loss: 0.004479, Epoch Runtime: 7.02 seconds\n",
            "Epoch: 81, Train Loss: 0.005406, Epoch Runtime: 6.41 seconds\n",
            "Epoch: 82, Train Loss: 0.006685, Epoch Runtime: 6.32 seconds\n",
            "Epoch: 83, Train Loss: 0.008565, Epoch Runtime: 6.42 seconds\n",
            "Epoch: 84, Train Loss: 0.004965, Epoch Runtime: 6.35 seconds\n",
            "Epoch: 85, Train Loss: 0.003214, Epoch Runtime: 6.86 seconds\n",
            "Epoch: 86, Train Loss: 0.005514, Epoch Runtime: 7.12 seconds\n",
            "Epoch: 87, Train Loss: 0.007988, Epoch Runtime: 6.23 seconds\n",
            "Epoch: 88, Train Loss: 0.004939, Epoch Runtime: 7.10 seconds\n",
            "Epoch: 89, Train Loss: 0.004340, Epoch Runtime: 6.95 seconds\n",
            "Epoch: 90, Train Loss: 0.005252, Epoch Runtime: 7.04 seconds\n",
            "Epoch: 91, Train Loss: 0.004987, Epoch Runtime: 7.13 seconds\n",
            "Epoch: 92, Train Loss: 0.004733, Epoch Runtime: 6.22 seconds\n",
            "Epoch: 93, Train Loss: 0.005712, Epoch Runtime: 6.23 seconds\n",
            "Epoch: 94, Train Loss: 0.004619, Epoch Runtime: 6.24 seconds\n",
            "Epoch: 95, Train Loss: 0.004625, Epoch Runtime: 6.45 seconds\n",
            "Epoch: 96, Train Loss: 0.004448, Epoch Runtime: 6.22 seconds\n",
            "Epoch: 97, Train Loss: 0.004380, Epoch Runtime: 6.24 seconds\n",
            "Epoch: 98, Train Loss: 0.005216, Epoch Runtime: 6.41 seconds\n",
            "Epoch: 99, Train Loss: 0.002397, Epoch Runtime: 6.22 seconds\n",
            "Epoch: 100, Train Loss: 0.005677, Epoch Runtime: 6.83 seconds\n",
            "Epoch: 101, Train Loss: 0.002888, Epoch Runtime: 6.82 seconds\n",
            "Epoch: 102, Train Loss: 0.003531, Epoch Runtime: 6.74 seconds\n",
            "Epoch: 103, Train Loss: 0.003389, Epoch Runtime: 6.74 seconds\n",
            "Epoch: 104, Train Loss: 0.001985, Epoch Runtime: 6.73 seconds\n",
            "Epoch: 105, Train Loss: 0.005094, Epoch Runtime: 6.88 seconds\n",
            "Epoch: 106, Train Loss: 0.002808, Epoch Runtime: 6.75 seconds\n",
            "Epoch: 107, Train Loss: 0.003059, Epoch Runtime: 6.72 seconds\n",
            "Epoch: 108, Train Loss: 0.007837, Epoch Runtime: 6.74 seconds\n",
            "Epoch: 109, Train Loss: 0.003479, Epoch Runtime: 6.83 seconds\n",
            "Epoch: 110, Train Loss: 0.005852, Epoch Runtime: 6.77 seconds\n",
            "Epoch: 111, Train Loss: 0.003493, Epoch Runtime: 6.73 seconds\n",
            "Epoch: 112, Train Loss: 0.003240, Epoch Runtime: 6.71 seconds\n",
            "Epoch: 113, Train Loss: 0.003872, Epoch Runtime: 6.73 seconds\n",
            "Epoch: 114, Train Loss: 0.003661, Epoch Runtime: 6.62 seconds\n",
            "Epoch: 115, Train Loss: 0.004036, Epoch Runtime: 6.80 seconds\n",
            "Epoch: 116, Train Loss: 0.003362, Epoch Runtime: 6.78 seconds\n",
            "Epoch: 117, Train Loss: 0.004675, Epoch Runtime: 6.95 seconds\n",
            "Epoch: 118, Train Loss: 0.002660, Epoch Runtime: 6.49 seconds\n",
            "Epoch: 119, Train Loss: 0.002763, Epoch Runtime: 6.41 seconds\n",
            "Epoch: 120, Train Loss: 0.002516, Epoch Runtime: 6.72 seconds\n",
            "Epoch: 121, Train Loss: 0.002195, Epoch Runtime: 6.71 seconds\n",
            "Epoch: 122, Train Loss: 0.003018, Epoch Runtime: 6.73 seconds\n",
            "Epoch: 123, Train Loss: 0.003345, Epoch Runtime: 6.73 seconds\n",
            "Epoch: 124, Train Loss: 0.004281, Epoch Runtime: 6.71 seconds\n",
            "Epoch: 125, Train Loss: 0.002663, Epoch Runtime: 6.76 seconds\n",
            "Epoch: 126, Train Loss: 0.002774, Epoch Runtime: 6.73 seconds\n",
            "Epoch: 127, Train Loss: 0.003326, Epoch Runtime: 6.90 seconds\n",
            "Epoch: 128, Train Loss: 0.008587, Epoch Runtime: 6.97 seconds\n",
            "Epoch: 129, Train Loss: 0.002974, Epoch Runtime: 6.66 seconds\n",
            "Epoch: 130, Train Loss: 0.002207, Epoch Runtime: 6.69 seconds\n",
            "Epoch: 131, Train Loss: 0.001597, Epoch Runtime: 6.25 seconds\n",
            "Epoch: 132, Train Loss: 0.003449, Epoch Runtime: 6.73 seconds\n",
            "Epoch: 133, Train Loss: 0.005063, Epoch Runtime: 6.94 seconds\n",
            "Epoch: 134, Train Loss: 0.002786, Epoch Runtime: 7.10 seconds\n",
            "Epoch: 135, Train Loss: 0.002793, Epoch Runtime: 7.13 seconds\n",
            "Epoch: 136, Train Loss: 0.001491, Epoch Runtime: 7.06 seconds\n",
            "Epoch: 137, Train Loss: 0.004341, Epoch Runtime: 6.44 seconds\n",
            "Epoch: 138, Train Loss: 0.002586, Epoch Runtime: 6.65 seconds\n",
            "Epoch: 139, Train Loss: 0.003439, Epoch Runtime: 7.14 seconds\n",
            "Epoch: 140, Train Loss: 0.001824, Epoch Runtime: 6.49 seconds\n",
            "Epoch: 141, Train Loss: 0.002427, Epoch Runtime: 7.09 seconds\n",
            "Epoch: 142, Train Loss: 0.003107, Epoch Runtime: 6.95 seconds\n",
            "Epoch: 143, Train Loss: 0.002014, Epoch Runtime: 6.59 seconds\n",
            "Epoch: 144, Train Loss: 0.003200, Epoch Runtime: 7.08 seconds\n",
            "Epoch: 145, Train Loss: 0.001518, Epoch Runtime: 7.11 seconds\n",
            "Epoch: 146, Train Loss: 0.003133, Epoch Runtime: 7.02 seconds\n",
            "Epoch: 147, Train Loss: 0.003641, Epoch Runtime: 7.09 seconds\n",
            "Epoch: 148, Train Loss: 0.001490, Epoch Runtime: 7.12 seconds\n",
            "Epoch: 149, Train Loss: 0.002307, Epoch Runtime: 7.34 seconds\n",
            "Epoch: 150, Train Loss: 0.002684, Epoch Runtime: 7.00 seconds\n",
            "Epoch: 151, Train Loss: 0.002320, Epoch Runtime: 6.29 seconds\n",
            "Epoch: 152, Train Loss: 0.002677, Epoch Runtime: 6.80 seconds\n",
            "Epoch: 153, Train Loss: 0.003539, Epoch Runtime: 7.02 seconds\n",
            "Epoch: 154, Train Loss: 0.001937, Epoch Runtime: 6.89 seconds\n",
            "Epoch: 155, Train Loss: 0.002493, Epoch Runtime: 7.13 seconds\n",
            "Epoch: 156, Train Loss: 0.002094, Epoch Runtime: 6.80 seconds\n",
            "Epoch: 157, Train Loss: 0.003323, Epoch Runtime: 6.88 seconds\n",
            "Epoch: 158, Train Loss: 0.001773, Epoch Runtime: 6.40 seconds\n",
            "Epoch: 159, Train Loss: 0.002259, Epoch Runtime: 6.59 seconds\n",
            "Epoch: 160, Train Loss: 0.001268, Epoch Runtime: 6.75 seconds\n",
            "Epoch: 161, Train Loss: 0.001396, Epoch Runtime: 7.07 seconds\n",
            "Epoch: 162, Train Loss: 0.002671, Epoch Runtime: 6.23 seconds\n",
            "Epoch: 163, Train Loss: 0.002188, Epoch Runtime: 6.24 seconds\n",
            "Epoch: 164, Train Loss: 0.002240, Epoch Runtime: 6.30 seconds\n",
            "Epoch: 165, Train Loss: 0.003056, Epoch Runtime: 6.83 seconds\n",
            "Epoch: 166, Train Loss: 0.002896, Epoch Runtime: 6.22 seconds\n",
            "Epoch: 167, Train Loss: 0.001959, Epoch Runtime: 6.91 seconds\n",
            "Epoch: 168, Train Loss: 0.001965, Epoch Runtime: 6.47 seconds\n",
            "Epoch: 169, Train Loss: 0.003361, Epoch Runtime: 6.27 seconds\n",
            "Epoch: 170, Train Loss: 0.001475, Epoch Runtime: 6.29 seconds\n",
            "Epoch: 171, Train Loss: 0.002094, Epoch Runtime: 6.11 seconds\n",
            "Epoch: 172, Train Loss: 0.001974, Epoch Runtime: 6.20 seconds\n",
            "Epoch: 173, Train Loss: 0.001708, Epoch Runtime: 6.27 seconds\n",
            "Epoch: 174, Train Loss: 0.001244, Epoch Runtime: 6.23 seconds\n",
            "Epoch: 175, Train Loss: 0.001348, Epoch Runtime: 6.10 seconds\n",
            "Epoch: 176, Train Loss: 0.002201, Epoch Runtime: 6.18 seconds\n",
            "Epoch: 177, Train Loss: 0.002108, Epoch Runtime: 6.11 seconds\n",
            "Epoch: 178, Train Loss: 0.002444, Epoch Runtime: 6.76 seconds\n",
            "Epoch: 179, Train Loss: 0.002191, Epoch Runtime: 6.24 seconds\n",
            "Epoch: 180, Train Loss: 0.001552, Epoch Runtime: 6.11 seconds\n",
            "Epoch: 181, Train Loss: 0.001532, Epoch Runtime: 6.30 seconds\n",
            "Epoch: 182, Train Loss: 0.002389, Epoch Runtime: 6.22 seconds\n",
            "Epoch: 183, Train Loss: 0.001371, Epoch Runtime: 6.26 seconds\n",
            "Epoch: 184, Train Loss: 0.002225, Epoch Runtime: 6.24 seconds\n",
            "Epoch: 185, Train Loss: 0.001826, Epoch Runtime: 6.25 seconds\n",
            "Epoch: 186, Train Loss: 0.001852, Epoch Runtime: 6.09 seconds\n",
            "Epoch: 187, Train Loss: 0.001506, Epoch Runtime: 6.38 seconds\n",
            "Epoch: 188, Train Loss: 0.001339, Epoch Runtime: 6.17 seconds\n",
            "Epoch: 189, Train Loss: 0.002217, Epoch Runtime: 6.15 seconds\n",
            "Epoch: 190, Train Loss: 0.001542, Epoch Runtime: 6.17 seconds\n",
            "Epoch: 191, Train Loss: 0.001661, Epoch Runtime: 6.27 seconds\n",
            "Epoch: 192, Train Loss: 0.001530, Epoch Runtime: 6.28 seconds\n",
            "Epoch: 193, Train Loss: 0.001775, Epoch Runtime: 6.26 seconds\n",
            "Epoch: 194, Train Loss: 0.001144, Epoch Runtime: 6.21 seconds\n",
            "Epoch: 195, Train Loss: 0.000993, Epoch Runtime: 6.24 seconds\n",
            "Epoch: 196, Train Loss: 0.001741, Epoch Runtime: 6.17 seconds\n",
            "Epoch: 197, Train Loss: 0.002455, Epoch Runtime: 6.30 seconds\n",
            "Epoch: 198, Train Loss: 0.002062, Epoch Runtime: 6.48 seconds\n",
            "Epoch: 199, Train Loss: 0.001853, Epoch Runtime: 6.34 seconds\n",
            "Epoch: 200, Train Loss: 0.001696, Epoch Runtime: 6.23 seconds\n",
            "Total Training Time: 1320.91 seconds\n"
          ]
        },
        {
          "data": {
            "image/png": "[encoded data removed]",
            "text/plain": [
              "<Figure size 1000x600 with 1 Axes>"
            ]
          },
          "metadata": {},
          "output_type": "display_data"
        }
      ],
      "source": [
        "loss_fn = nn.CrossEntropyLoss()\n",
        "optimizer = optim.SGD(model.parameters(), lr=0.01)\n",
        "# Training loop\n",
        "num_epochs = 200\n",
        "total_start_time = time.time()\n",
        "losses=[]\n",
        "for epoch in range(num_epochs):\n",
        "    start_time = time.time()\n",
        "    for imgs, labels in train_loader:\n",
        "        imgs, labels = imgs.to(device), labels.to(device)\n",
        "        outputs=model(imgs)\n",
        "        loss = loss_fn(outputs, labels)\n",
        "        optimizer.zero_grad()\n",
        "        loss.backward()\n",
        "        optimizer.step()\n",
        "    # Calculate training time\n",
        "    end_time = time.time()\n",
        "    training_time = end_time - start_time\n",
        "    print(f\"Epoch: {epoch+1}, Train Loss: {float(loss):.6f}, Epoch Runtime: {training_time:.2f} seconds\")\n",
        "    losses.append(float(loss))\n",
        "\n",
        "# Print total training time\n",
        "total_end_time = time.time()\n",
        "total_training_time = total_end_time - total_start_time\n",
        "print(f'Total Training Time: {total_training_time:.2f} seconds')\n",
        "# Plotting loss vs. epochs\n",
        "plt.figure(figsize=(10, 6))\n",
        "plt.plot(range(num_epochs), losses, marker='o', linestyle='-', color='b')\n",
        "plt.title(\"Loss vs Epochs\")\n",
        "plt.xlabel(\"Epochs\")\n",
        "plt.ylabel(\"Loss\")\n",
        "plt.grid(True)\n",
        "plt.show()"
      ]
    },
    {
      "cell_type": "code",
      "execution_count": null,
      "metadata": {
        "id": "NhwIHRuBFSZF"
      },
      "outputs": [],
      "source": [
        "val_dataset = torchvision.datasets.CIFAR10('../data-unversioned/p1ch7/', train=False, download=False,\n",
        "                          transform=transforms.ToTensor())"
      ]
    },
    {
      "cell_type": "code",
      "execution_count": null,
      "metadata": {
        "colab": {
          "base_uri": "https://localhost:8080/"
        },
        "id": "zf8d_F_SFYV9",
        "outputId": "2493d3a2-839a-4dd3-cb0a-78d0e8a8bb0b"
      },
      "outputs": [
        {
          "data": {
            "text/plain": [
              "torch.Size([3, 32, 32, 10000])"
            ]
          },
          "execution_count": 53,
          "metadata": {},
          "output_type": "execute_result"
        }
      ],
      "source": [
        "imgs = torch.stack([img_t for img_t, _ in val_dataset], dim=3)\n",
        "imgs.shape"
      ]
    },
    {
      "cell_type": "code",
      "execution_count": null,
      "metadata": {
        "colab": {
          "base_uri": "https://localhost:8080/"
        },
        "id": "LkyPp-KYFccH",
        "outputId": "0563ac15-441f-4c6b-f467-569cc613a389"
      },
      "outputs": [
        {
          "name": "stdout",
          "output_type": "stream",
          "text": [
            "tensor([0.4942, 0.4851, 0.4504])\n",
            "tensor([0.2467, 0.2429, 0.2616])\n"
          ]
        }
      ],
      "source": [
        "val_mean=imgs.view(3, -1).mean(dim=1)\n",
        "val_std=imgs.view(3, -1).std(dim=1)\n",
        "print(val_mean)\n",
        "print(val_std)\n"
      ]
    },
    {
      "cell_type": "code",
      "execution_count": null,
      "metadata": {
        "colab": {
          "base_uri": "https://localhost:8080/"
        },
        "id": "iaYGXiVhFj-m",
        "outputId": "a982994e-542d-422a-fdcd-61bd735d9fed"
      },
      "outputs": [
        {
          "data": {
            "text/plain": [
              "Normalize(mean=tensor([0.4942, 0.4851, 0.4504]), std=tensor([0.2467, 0.2429, 0.2616]))"
            ]
          },
          "execution_count": 55,
          "metadata": {},
          "output_type": "execute_result"
        }
      ],
      "source": [
        "transforms.Normalize(val_mean, val_std)"
      ]
    },
    {
      "cell_type": "code",
      "execution_count": null,
      "metadata": {
        "id": "eJzl22a2FGgr"
      },
      "outputs": [],
      "source": [
        "transformed_val_dataset = torchvision.datasets.CIFAR10(\n",
        "    '../data-unversioned/p1ch7/', train=False, download=False,\n",
        "    transform=transforms.Compose([\n",
        "        transforms.ToTensor(),\n",
        "        transforms.Normalize(train_mean,\n",
        "                             train_std)\n",
        "    ]))\n",
        "val_loader = torch.utils.data.DataLoader(transformed_val_dataset, batch_size=64, shuffle=False)"
      ]
    },
    {
      "cell_type": "code",
      "execution_count": null,
      "metadata": {
        "colab": {
          "base_uri": "https://localhost:8080/"
        },
        "id": "lXPkhlkJFrgr",
        "outputId": "50c1227f-f95b-4efa-8675-557b4ba9e146"
      },
      "outputs": [
        {
          "name": "stdout",
          "output_type": "stream",
          "text": [
            "Validation Accurracy:%f 0.6756\n"
          ]
        }
      ],
      "source": [
        "correct=0\n",
        "total=0\n",
        "with torch.no_grad():\n",
        "  for imgs, labels in val_loader:\n",
        "      imgs, labels = imgs.to(device), labels.to(device)\n",
        "      batch_size=imgs.shape[0]\n",
        "      outputs=model(imgs)\n",
        "      _,predicted=torch.max(outputs,dim=1)\n",
        "      total+=labels.shape[0]\n",
        "      correct+=int((predicted==labels).sum())\n",
        "print(\"Validation Accurracy:%f\", correct/total)"
      ]
    },
    {
      "cell_type": "code",
      "execution_count": null,
      "metadata": {
        "id": "8anUzzslXxyZ"
      },
      "outputs": [],
      "source": [
        "def get_model_size(model):\n",
        "    total_params = sum(p.numel() for p in model.parameters())\n",
        "    trainable_params = sum(p.numel() for p in model.parameters() if p.requires_grad)\n",
        "    return total_params, trainable_params"
      ]
    },
    {
      "cell_type": "code",
      "execution_count": null,
      "metadata": {
        "colab": {
          "base_uri": "https://localhost:8080/"
        },
        "id": "RTwIGt-toFzS",
        "outputId": "31826457-db6b-4ac0-d077-354efb11b002"
      },
      "outputs": [
        {
          "name": "stdout",
          "output_type": "stream",
          "text": [
            "  Total parameters: 2100874\n",
            "  Trainable parameters: 2100874\n"
          ]
        }
      ],
      "source": [
        "total_params, trainable_params = get_model_size(model)\n",
        "print(f\"  Total parameters: {total_params}\")\n",
        "print(f\"  Trainable parameters: {trainable_params}\")"
      ]
    },
    {
      "cell_type": "code",
      "execution_count": null,
      "metadata": {
        "id": "zGufDty4oFzS"
      },
      "outputs": [],
      "source": []
    },
    {
      "cell_type": "code",
      "execution_count": null,
      "metadata": {
        "id": "x7IFitn8oFzS"
      },
      "outputs": [],
      "source": []
    },
    {
      "cell_type": "code",
      "execution_count": null,
      "metadata": {
        "id": "av8u8AFUoFzS"
      },
      "outputs": [],
      "source": []
    }
  ],
  "metadata": {
    "colab": {
      "provenance": [],
      "include_colab_link": true
    },
    "kernelspec": {
      "display_name": "Python 3 (ipykernel)",
      "language": "python",
      "name": "python3"
    },
    "language_info": {
      "codemirror_mode": {
        "name": "ipython",
        "version": 3
      },
      "file_extension": ".py",
      "mimetype": "text/x-python",
      "name": "python",
      "nbconvert_exporter": "python",
      "pygments_lexer": "ipython3",
      "version": "3.12.7"
    }
  },
  "nbformat": 4,
  "nbformat_minor": 0
}