{
  "cells": [
    {
      "cell_type": "markdown",
      "metadata": {
        "id": "view-in-github",
        "colab_type": "text"
      },
      "source": [
        "<a href=\"https://colab.research.google.com/github/Ahmed-M-Elshazly/Homework-7/blob/main/Homework_7_Problem_2.ipynb\" target=\"_parent\"><img src=\"https://colab.research.google.com/assets/colab-badge.svg\" alt=\"Open In Colab\"/></a>"
      ]
    },
    {
      "cell_type": "markdown",
      "metadata": {
        "id": "iHDVHfssy6Qz"
      },
      "source": [
        "#Homework 7\n",
        "#Problem 2\n",
        "#Ahmed Elshazly\n",
        "#801420724"
      ]
    },
    {
      "cell_type": "code",
      "execution_count": null,
      "metadata": {
        "id": "Hep86coQ0y9F"
      },
      "outputs": [],
      "source": [
        "import torch\n",
        "import torch.nn as nn\n",
        "import torch.optim as optim\n",
        "import torchvision\n",
        "import torchvision.transforms as transforms\n",
        "from sklearn.metrics import confusion_matrix, f1_score\n",
        "import time\n",
        "from matplotlib import pyplot as plt\n",
        "import numpy as np\n",
        "import torch.nn.functional as F"
      ]
    },
    {
      "cell_type": "code",
      "execution_count": null,
      "metadata": {
        "id": "D9naEwyXBVtP"
      },
      "outputs": [],
      "source": [
        "# Set device\n",
        "device1 = torch.device(\"cuda:0\" if torch.cuda.is_available() else \"cpu\")"
      ]
    },
    {
      "cell_type": "code",
      "execution_count": null,
      "metadata": {
        "colab": {
          "base_uri": "https://localhost:8080/"
        },
        "id": "YHkVUNNr07yB",
        "outputId": "6eb2c3df-ddad-48d2-bd1e-ad316e20034b"
      },
      "outputs": [
        {
          "name": "stdout",
          "output_type": "stream",
          "text": [
            "Files already downloaded and verified\n",
            "Files already downloaded and verified\n"
          ]
        }
      ],
      "source": [
        "# Load CIFAR-10 dataset to calculate mean and std\n",
        "train_dataset = torchvision.datasets.CIFAR10('../data-unversioned/p1ch7/', train=True, download=True)\n",
        "val_dataset = torchvision.datasets.CIFAR10('../data-unversioned/p1ch7/', train=False, download=True)"
      ]
    },
    {
      "cell_type": "code",
      "execution_count": null,
      "metadata": {
        "colab": {
          "base_uri": "https://localhost:8080/"
        },
        "id": "7r6zOQ6m2d4C",
        "outputId": "1a1f7e40-9ecf-4aa1-c11e-5188cd02cd05"
      },
      "outputs": [
        {
          "data": {
            "text/plain": [
              "(<PIL.Image.Image image mode=RGB size=32x32>, 8, 'ship')"
            ]
          },
          "execution_count": 62,
          "metadata": {},
          "output_type": "execute_result"
        }
      ],
      "source": [
        "class_names = ['airplane', 'automobile', 'bird', 'cat', 'deer', 'dog', 'frog', 'horse', 'ship', 'truck']\n",
        "img, label = train_dataset[100]\n",
        "img, label, class_names[label]"
      ]
    },
    {
      "cell_type": "code",
      "execution_count": null,
      "metadata": {
        "colab": {
          "base_uri": "https://localhost:8080/"
        },
        "id": "VdEKFBd_3lrf",
        "outputId": "72609413-75d7-4e1e-dbcf-01b9954b0dc1"
      },
      "outputs": [
        {
          "data": {
            "text/plain": [
              "50000"
            ]
          },
          "execution_count": 63,
          "metadata": {},
          "output_type": "execute_result"
        }
      ],
      "source": [
        "len(train_dataset)"
      ]
    },
    {
      "cell_type": "code",
      "execution_count": null,
      "metadata": {
        "colab": {
          "base_uri": "https://localhost:8080/",
          "height": 430
        },
        "id": "rGxLyiU14Ydc",
        "outputId": "e306ff33-10c9-42a1-a3b8-4bb94f6a36d4"
      },
      "outputs": [
        {
          "data": {
            "image/png": "[encoded data removed]",
            "text/plain": [
              "<Figure size 640x480 with 1 Axes>"
            ]
          },
          "metadata": {},
          "output_type": "display_data"
        }
      ],
      "source": [
        "plt.imshow(img)\n",
        "plt.show()"
      ]
    },
    {
      "cell_type": "code",
      "execution_count": null,
      "metadata": {
        "colab": {
          "base_uri": "https://localhost:8080/"
        },
        "id": "UkTGbkNd4mY4",
        "outputId": "c03ca739-983f-4330-8b8f-2bece6da854e"
      },
      "outputs": [
        {
          "data": {
            "text/plain": [
              "torch.Size([3, 32, 32])"
            ]
          },
          "execution_count": 65,
          "metadata": {},
          "output_type": "execute_result"
        }
      ],
      "source": [
        "from torchvision import transforms\n",
        "\n",
        "to_tensor = transforms.ToTensor()\n",
        "img_t = to_tensor(img)\n",
        "img_t.shape"
      ]
    },
    {
      "cell_type": "code",
      "execution_count": null,
      "metadata": {
        "colab": {
          "base_uri": "https://localhost:8080/"
        },
        "id": "G2pj3M836NT0",
        "outputId": "d82d4015-2382-426d-82af-2eb7dda560e7"
      },
      "outputs": [
        {
          "data": {
            "text/plain": [
              "torch.Size([3, 32, 32, 50000])"
            ]
          },
          "execution_count": 66,
          "metadata": {},
          "output_type": "execute_result"
        }
      ],
      "source": [
        "train_dataset = torchvision.datasets.CIFAR10('../data-unversioned/p1ch7/', train=True, download=False,\n",
        "                          transform=transforms.ToTensor())\n",
        "imgs = torch.stack([img_t for img_t, _ in train_dataset], dim=3)\n",
        "imgs.shape"
      ]
    },
    {
      "cell_type": "code",
      "execution_count": null,
      "metadata": {
        "colab": {
          "base_uri": "https://localhost:8080/",
          "height": 430
        },
        "id": "ffgriKfr8D3J",
        "outputId": "0d0f0357-e1af-47ce-bfda-28d46cb58e17"
      },
      "outputs": [
        {
          "data": {
            "image/png": "[encoded data removed]",
            "text/plain": [
              "<Figure size 640x480 with 1 Axes>"
            ]
          },
          "metadata": {},
          "output_type": "display_data"
        }
      ],
      "source": [
        "plt.imshow(img_t.permute(1, 2, 0))  # <1>\n",
        "plt.show()"
      ]
    },
    {
      "cell_type": "code",
      "execution_count": null,
      "metadata": {
        "colab": {
          "base_uri": "https://localhost:8080/"
        },
        "id": "0fauThWj8EdP",
        "outputId": "ebe6b942-e76f-495d-d0a4-fcee0ea09975"
      },
      "outputs": [
        {
          "name": "stdout",
          "output_type": "stream",
          "text": [
            "tensor([0.4914, 0.4822, 0.4465])\n",
            "tensor([0.2470, 0.2435, 0.2616])\n"
          ]
        }
      ],
      "source": [
        "train_mean=imgs.view(3, -1).mean(dim=1)\n",
        "train_std=imgs.view(3, -1).std(dim=1)\n",
        "print(train_mean)\n",
        "print(train_std)\n"
      ]
    },
    {
      "cell_type": "code",
      "execution_count": null,
      "metadata": {
        "colab": {
          "base_uri": "https://localhost:8080/"
        },
        "id": "IL7MIlnq8mGi",
        "outputId": "0e6c2ad7-9cb5-45be-88e9-a4444241c185"
      },
      "outputs": [
        {
          "data": {
            "text/plain": [
              "Normalize(mean=tensor([0.4914, 0.4822, 0.4465]), std=tensor([0.2470, 0.2435, 0.2616]))"
            ]
          },
          "execution_count": 69,
          "metadata": {},
          "output_type": "execute_result"
        }
      ],
      "source": [
        "transforms.Normalize(train_mean, train_std)\n"
      ]
    },
    {
      "cell_type": "code",
      "execution_count": null,
      "metadata": {
        "id": "k_lIbn4_864u"
      },
      "outputs": [],
      "source": [
        "transformed_train_dataset = torchvision.datasets.CIFAR10(\n",
        "    '../data-unversioned/p1ch7/', train=True, download=False,\n",
        "    transform=transforms.Compose([\n",
        "        transforms.ToTensor(),\n",
        "        transforms.Normalize(train_mean,\n",
        "                             train_std)\n",
        "    ]))\n",
        "train_loader = torch.utils.data.DataLoader(transformed_train_dataset, batch_size=64, shuffle=True)"
      ]
    },
    {
      "cell_type": "code",
      "execution_count": null,
      "metadata": {
        "id": "ynOLL2IY_N3a"
      },
      "outputs": [],
      "source": []
    },
    {
      "cell_type": "code",
      "execution_count": null,
      "metadata": {
        "id": "ZSBI3xwxArTi"
      },
      "outputs": [],
      "source": [
        "class ResBlock(nn.Module):\n",
        "    def __init__(self, n_chans):\n",
        "        super(ResBlock, self).__init__()\n",
        "        self.conv = nn.Conv2d(n_chans, n_chans, kernel_size=3,\n",
        "                              padding=1, bias=False)\n",
        "        self.batch_norm = nn.BatchNorm2d(num_features=n_chans)\n",
        "        torch.nn.init.kaiming_normal_(self.conv.weight,\n",
        "                                      nonlinearity='relu')\n",
        "        torch.nn.init.constant_(self.batch_norm.weight, 0.5)\n",
        "        torch.nn.init.zeros_(self.batch_norm.bias)\n",
        "\n",
        "    def forward(self, x):\n",
        "        out = self.conv(x)\n",
        "        out = self.batch_norm(out)\n",
        "        out = torch.relu(out)\n",
        "        return out + x\n",
        "\n",
        "class NetResDeep(nn.Module):\n",
        "    def __init__(self, n_chans1=32, n_blocks=10):\n",
        "        super().__init__()\n",
        "        self.n_chans1 = n_chans1\n",
        "        self.conv1 = nn.Conv2d(3, n_chans1, kernel_size=3, padding=1)\n",
        "        self.resblocks = nn.Sequential(\n",
        "            *(n_blocks * [ResBlock(n_chans=n_chans1)]))\n",
        "        self.fc1 = nn.Linear(8 * 8 * n_chans1, 256)\n",
        "        self.fc2 = nn.Linear(256, 10)\n",
        "\n",
        "    def forward(self, x):\n",
        "        out = F.max_pool2d(torch.relu(self.conv1(x)), 2)\n",
        "        out = self.resblocks(out)\n",
        "        out = F.max_pool2d(out, 2)\n",
        "        out = out.view(-1, 8 * 8 * self.n_chans1)\n",
        "        out = torch.relu(self.fc1(out))\n",
        "        out = self.fc2(out)\n",
        "        return out\n",
        "\n",
        "\n",
        "model = NetResDeep(n_chans1=32, n_blocks=10).to(device1)"
      ]
    },
    {
      "cell_type": "code",
      "execution_count": null,
      "metadata": {
        "colab": {
          "base_uri": "https://localhost:8080/",
          "height": 1000
        },
        "id": "3jtHoziOBljm",
        "outputId": "0bee42ea-5786-4c05-d004-fcfb341de66d"
      },
      "outputs": [
        {
          "name": "stdout",
          "output_type": "stream",
          "text": [
            "Epoch: 1, Train Loss: 1.581716, Epoch Runtime: 11.31 seconds\n",
            "Epoch: 2, Train Loss: 1.028421, Epoch Runtime: 11.34 seconds\n",
            "Epoch: 3, Train Loss: 1.552702, Epoch Runtime: 11.29 seconds\n",
            "Epoch: 4, Train Loss: 0.950745, Epoch Runtime: 11.60 seconds\n",
            "Epoch: 5, Train Loss: 0.849681, Epoch Runtime: 11.34 seconds\n",
            "Epoch: 6, Train Loss: 0.756967, Epoch Runtime: 11.39 seconds\n",
            "Epoch: 7, Train Loss: 0.471196, Epoch Runtime: 10.96 seconds\n",
            "Epoch: 8, Train Loss: 0.238151, Epoch Runtime: 8.73 seconds\n",
            "Epoch: 9, Train Loss: 1.022087, Epoch Runtime: 9.10 seconds\n",
            "Epoch: 10, Train Loss: 0.764105, Epoch Runtime: 10.96 seconds\n",
            "Epoch: 11, Train Loss: 0.692743, Epoch Runtime: 10.96 seconds\n",
            "Epoch: 12, Train Loss: 0.319367, Epoch Runtime: 10.51 seconds\n",
            "Epoch: 13, Train Loss: 0.308712, Epoch Runtime: 11.16 seconds\n",
            "Epoch: 14, Train Loss: 0.238492, Epoch Runtime: 10.59 seconds\n",
            "Epoch: 15, Train Loss: 0.554344, Epoch Runtime: 11.04 seconds\n",
            "Epoch: 16, Train Loss: 0.393755, Epoch Runtime: 10.97 seconds\n",
            "Epoch: 17, Train Loss: 0.560275, Epoch Runtime: 11.04 seconds\n",
            "Epoch: 18, Train Loss: 0.402698, Epoch Runtime: 11.11 seconds\n",
            "Epoch: 19, Train Loss: 0.760566, Epoch Runtime: 11.20 seconds\n",
            "Epoch: 20, Train Loss: 0.025431, Epoch Runtime: 11.06 seconds\n",
            "Epoch: 21, Train Loss: 0.164293, Epoch Runtime: 11.08 seconds\n",
            "Epoch: 22, Train Loss: 0.237590, Epoch Runtime: 9.32 seconds\n",
            "Epoch: 23, Train Loss: 0.004984, Epoch Runtime: 11.12 seconds\n",
            "Epoch: 24, Train Loss: 0.053788, Epoch Runtime: 11.22 seconds\n",
            "Epoch: 25, Train Loss: 0.002479, Epoch Runtime: 11.17 seconds\n",
            "Epoch: 26, Train Loss: 0.002523, Epoch Runtime: 11.10 seconds\n",
            "Epoch: 27, Train Loss: 0.011626, Epoch Runtime: 11.10 seconds\n",
            "Epoch: 28, Train Loss: 0.004094, Epoch Runtime: 11.06 seconds\n",
            "Epoch: 29, Train Loss: 0.019890, Epoch Runtime: 9.96 seconds\n",
            "Epoch: 30, Train Loss: 0.005051, Epoch Runtime: 10.75 seconds\n",
            "Epoch: 31, Train Loss: 0.012600, Epoch Runtime: 10.33 seconds\n",
            "Epoch: 32, Train Loss: 0.001179, Epoch Runtime: 10.97 seconds\n",
            "Epoch: 33, Train Loss: 0.012248, Epoch Runtime: 10.85 seconds\n",
            "Epoch: 34, Train Loss: 0.000808, Epoch Runtime: 10.98 seconds\n",
            "Epoch: 35, Train Loss: 0.001833, Epoch Runtime: 11.00 seconds\n",
            "Epoch: 36, Train Loss: 0.002041, Epoch Runtime: 10.65 seconds\n",
            "Epoch: 37, Train Loss: 0.002680, Epoch Runtime: 10.89 seconds\n",
            "Epoch: 38, Train Loss: 0.002473, Epoch Runtime: 11.01 seconds\n",
            "Epoch: 39, Train Loss: 0.008749, Epoch Runtime: 10.75 seconds\n",
            "Epoch: 40, Train Loss: 0.006462, Epoch Runtime: 10.72 seconds\n",
            "Epoch: 41, Train Loss: 0.000981, Epoch Runtime: 10.67 seconds\n",
            "Epoch: 42, Train Loss: 0.000427, Epoch Runtime: 10.98 seconds\n",
            "Epoch: 43, Train Loss: 0.000760, Epoch Runtime: 10.69 seconds\n",
            "Epoch: 44, Train Loss: 0.000296, Epoch Runtime: 11.13 seconds\n",
            "Epoch: 45, Train Loss: 0.001694, Epoch Runtime: 10.67 seconds\n",
            "Epoch: 46, Train Loss: 0.002017, Epoch Runtime: 11.22 seconds\n",
            "Epoch: 47, Train Loss: 0.001197, Epoch Runtime: 10.62 seconds\n",
            "Epoch: 48, Train Loss: 0.000407, Epoch Runtime: 11.14 seconds\n",
            "Epoch: 49, Train Loss: 0.015249, Epoch Runtime: 11.26 seconds\n",
            "Epoch: 50, Train Loss: 0.000738, Epoch Runtime: 11.16 seconds\n",
            "Epoch: 51, Train Loss: 0.000213, Epoch Runtime: 10.97 seconds\n",
            "Epoch: 52, Train Loss: 0.000933, Epoch Runtime: 11.13 seconds\n",
            "Epoch: 53, Train Loss: 0.000890, Epoch Runtime: 11.06 seconds\n",
            "Epoch: 54, Train Loss: 0.001194, Epoch Runtime: 11.03 seconds\n",
            "Epoch: 55, Train Loss: 0.029104, Epoch Runtime: 11.16 seconds\n",
            "Epoch: 56, Train Loss: 0.009833, Epoch Runtime: 11.30 seconds\n",
            "Epoch: 57, Train Loss: 0.001460, Epoch Runtime: 10.51 seconds\n",
            "Epoch: 58, Train Loss: 0.000622, Epoch Runtime: 11.06 seconds\n",
            "Epoch: 59, Train Loss: 0.001222, Epoch Runtime: 11.02 seconds\n",
            "Epoch: 60, Train Loss: 0.000631, Epoch Runtime: 10.75 seconds\n",
            "Epoch: 61, Train Loss: 0.001760, Epoch Runtime: 11.23 seconds\n",
            "Epoch: 62, Train Loss: 0.000400, Epoch Runtime: 10.69 seconds\n",
            "Epoch: 63, Train Loss: 0.003090, Epoch Runtime: 11.01 seconds\n",
            "Epoch: 64, Train Loss: 0.001228, Epoch Runtime: 11.03 seconds\n",
            "Epoch: 65, Train Loss: 0.000076, Epoch Runtime: 10.99 seconds\n",
            "Epoch: 66, Train Loss: 0.001035, Epoch Runtime: 9.66 seconds\n",
            "Epoch: 67, Train Loss: 0.001850, Epoch Runtime: 8.93 seconds\n",
            "Epoch: 68, Train Loss: 0.000333, Epoch Runtime: 10.53 seconds\n",
            "Epoch: 69, Train Loss: 0.000841, Epoch Runtime: 11.22 seconds\n",
            "Epoch: 70, Train Loss: 0.010186, Epoch Runtime: 10.05 seconds\n",
            "Epoch: 71, Train Loss: 0.001737, Epoch Runtime: 11.33 seconds\n",
            "Epoch: 72, Train Loss: 0.001006, Epoch Runtime: 11.21 seconds\n",
            "Epoch: 73, Train Loss: 0.002041, Epoch Runtime: 11.16 seconds\n",
            "Epoch: 74, Train Loss: 0.000179, Epoch Runtime: 9.68 seconds\n",
            "Epoch: 75, Train Loss: 0.000281, Epoch Runtime: 10.24 seconds\n",
            "Epoch: 76, Train Loss: 0.007505, Epoch Runtime: 11.23 seconds\n",
            "Epoch: 77, Train Loss: 0.000976, Epoch Runtime: 11.22 seconds\n",
            "Epoch: 78, Train Loss: 0.000626, Epoch Runtime: 9.20 seconds\n",
            "Epoch: 79, Train Loss: 0.000533, Epoch Runtime: 10.63 seconds\n",
            "Epoch: 80, Train Loss: 0.006852, Epoch Runtime: 10.75 seconds\n",
            "Epoch: 81, Train Loss: 0.002018, Epoch Runtime: 11.01 seconds\n",
            "Epoch: 82, Train Loss: 0.000265, Epoch Runtime: 10.79 seconds\n",
            "Epoch: 83, Train Loss: 0.000634, Epoch Runtime: 10.95 seconds\n",
            "Epoch: 84, Train Loss: 0.000138, Epoch Runtime: 11.15 seconds\n",
            "Epoch: 85, Train Loss: 0.001245, Epoch Runtime: 11.23 seconds\n",
            "Epoch: 86, Train Loss: 0.000432, Epoch Runtime: 10.87 seconds\n",
            "Epoch: 87, Train Loss: 0.000535, Epoch Runtime: 10.99 seconds\n",
            "Epoch: 88, Train Loss: 0.000207, Epoch Runtime: 10.92 seconds\n",
            "Epoch: 89, Train Loss: 0.000950, Epoch Runtime: 10.97 seconds\n",
            "Epoch: 90, Train Loss: 0.000784, Epoch Runtime: 10.95 seconds\n",
            "Epoch: 91, Train Loss: 0.000269, Epoch Runtime: 11.10 seconds\n",
            "Epoch: 92, Train Loss: 0.000486, Epoch Runtime: 11.03 seconds\n",
            "Epoch: 93, Train Loss: 0.000801, Epoch Runtime: 11.01 seconds\n",
            "Epoch: 94, Train Loss: 0.000049, Epoch Runtime: 8.78 seconds\n",
            "Epoch: 95, Train Loss: 0.000604, Epoch Runtime: 9.42 seconds\n",
            "Epoch: 96, Train Loss: 0.000106, Epoch Runtime: 10.71 seconds\n",
            "Epoch: 97, Train Loss: 0.001657, Epoch Runtime: 10.55 seconds\n",
            "Epoch: 98, Train Loss: 0.000038, Epoch Runtime: 10.92 seconds\n",
            "Epoch: 99, Train Loss: 0.000438, Epoch Runtime: 10.09 seconds\n",
            "Epoch: 100, Train Loss: 0.000366, Epoch Runtime: 10.18 seconds\n",
            "Epoch: 101, Train Loss: 0.000434, Epoch Runtime: 10.96 seconds\n",
            "Epoch: 102, Train Loss: 0.000193, Epoch Runtime: 10.93 seconds\n",
            "Epoch: 103, Train Loss: 0.003708, Epoch Runtime: 10.93 seconds\n",
            "Epoch: 104, Train Loss: 0.013185, Epoch Runtime: 11.14 seconds\n",
            "Epoch: 105, Train Loss: 0.000118, Epoch Runtime: 11.04 seconds\n",
            "Epoch: 106, Train Loss: 0.000208, Epoch Runtime: 11.01 seconds\n",
            "Epoch: 107, Train Loss: 0.004718, Epoch Runtime: 10.76 seconds\n",
            "Epoch: 108, Train Loss: 0.000324, Epoch Runtime: 10.90 seconds\n",
            "Epoch: 109, Train Loss: 0.007681, Epoch Runtime: 10.88 seconds\n",
            "Epoch: 110, Train Loss: 0.000146, Epoch Runtime: 11.00 seconds\n",
            "Epoch: 111, Train Loss: 0.000104, Epoch Runtime: 10.51 seconds\n",
            "Epoch: 112, Train Loss: 0.000254, Epoch Runtime: 10.20 seconds\n",
            "Epoch: 113, Train Loss: 0.000267, Epoch Runtime: 10.13 seconds\n",
            "Epoch: 114, Train Loss: 0.000353, Epoch Runtime: 8.62 seconds\n",
            "Epoch: 115, Train Loss: 0.009559, Epoch Runtime: 9.39 seconds\n",
            "Epoch: 116, Train Loss: 0.000486, Epoch Runtime: 10.92 seconds\n",
            "Epoch: 117, Train Loss: 0.000102, Epoch Runtime: 10.17 seconds\n",
            "Epoch: 118, Train Loss: 0.000135, Epoch Runtime: 11.03 seconds\n",
            "Epoch: 119, Train Loss: 0.002524, Epoch Runtime: 11.09 seconds\n",
            "Epoch: 120, Train Loss: 0.000894, Epoch Runtime: 11.08 seconds\n",
            "Epoch: 121, Train Loss: 0.000761, Epoch Runtime: 11.22 seconds\n",
            "Epoch: 122, Train Loss: 0.001404, Epoch Runtime: 10.76 seconds\n",
            "Epoch: 123, Train Loss: 0.000108, Epoch Runtime: 11.10 seconds\n",
            "Epoch: 124, Train Loss: 0.000807, Epoch Runtime: 10.82 seconds\n",
            "Epoch: 125, Train Loss: 0.005240, Epoch Runtime: 10.63 seconds\n",
            "Epoch: 126, Train Loss: 0.000509, Epoch Runtime: 10.81 seconds\n",
            "Epoch: 127, Train Loss: 0.000683, Epoch Runtime: 10.70 seconds\n",
            "Epoch: 128, Train Loss: 0.000263, Epoch Runtime: 10.57 seconds\n",
            "Epoch: 129, Train Loss: 0.000051, Epoch Runtime: 10.84 seconds\n",
            "Epoch: 130, Train Loss: 0.000322, Epoch Runtime: 10.94 seconds\n",
            "Epoch: 131, Train Loss: 0.000980, Epoch Runtime: 11.05 seconds\n",
            "Epoch: 132, Train Loss: 0.008127, Epoch Runtime: 10.94 seconds\n",
            "Epoch: 133, Train Loss: 0.000301, Epoch Runtime: 11.02 seconds\n",
            "Epoch: 134, Train Loss: 0.001972, Epoch Runtime: 11.07 seconds\n",
            "Epoch: 135, Train Loss: 0.001429, Epoch Runtime: 10.64 seconds\n",
            "Epoch: 136, Train Loss: 0.000843, Epoch Runtime: 11.03 seconds\n",
            "Epoch: 137, Train Loss: 0.000456, Epoch Runtime: 10.59 seconds\n",
            "Epoch: 138, Train Loss: 0.000085, Epoch Runtime: 11.16 seconds\n",
            "Epoch: 139, Train Loss: 0.000232, Epoch Runtime: 11.29 seconds\n",
            "Epoch: 140, Train Loss: 0.000389, Epoch Runtime: 11.28 seconds\n",
            "Epoch: 141, Train Loss: 0.000753, Epoch Runtime: 11.00 seconds\n",
            "Epoch: 142, Train Loss: 0.000635, Epoch Runtime: 11.10 seconds\n",
            "Epoch: 143, Train Loss: 0.002231, Epoch Runtime: 10.68 seconds\n",
            "Epoch: 144, Train Loss: 0.000100, Epoch Runtime: 11.15 seconds\n",
            "Epoch: 145, Train Loss: 0.000135, Epoch Runtime: 11.13 seconds\n",
            "Epoch: 146, Train Loss: 0.000036, Epoch Runtime: 10.46 seconds\n",
            "Epoch: 147, Train Loss: 0.000397, Epoch Runtime: 10.90 seconds\n",
            "Epoch: 148, Train Loss: 0.000151, Epoch Runtime: 11.01 seconds\n",
            "Epoch: 149, Train Loss: 0.000044, Epoch Runtime: 10.67 seconds\n",
            "Epoch: 150, Train Loss: 0.000515, Epoch Runtime: 10.59 seconds\n",
            "Epoch: 151, Train Loss: 0.005483, Epoch Runtime: 10.73 seconds\n",
            "Epoch: 152, Train Loss: 0.000265, Epoch Runtime: 11.19 seconds\n",
            "Epoch: 153, Train Loss: 0.000725, Epoch Runtime: 11.09 seconds\n",
            "Epoch: 154, Train Loss: 0.000068, Epoch Runtime: 11.10 seconds\n",
            "Epoch: 155, Train Loss: 0.000786, Epoch Runtime: 11.27 seconds\n",
            "Epoch: 156, Train Loss: 0.000096, Epoch Runtime: 11.23 seconds\n",
            "Epoch: 157, Train Loss: 0.000395, Epoch Runtime: 11.20 seconds\n",
            "Epoch: 158, Train Loss: 0.024714, Epoch Runtime: 11.19 seconds\n",
            "Epoch: 159, Train Loss: 0.325402, Epoch Runtime: 11.02 seconds\n",
            "Epoch: 160, Train Loss: 0.404709, Epoch Runtime: 10.97 seconds\n",
            "Epoch: 161, Train Loss: 0.093539, Epoch Runtime: 10.87 seconds\n",
            "Epoch: 162, Train Loss: 0.027796, Epoch Runtime: 11.10 seconds\n",
            "Epoch: 163, Train Loss: 0.114320, Epoch Runtime: 10.89 seconds\n",
            "Epoch: 164, Train Loss: 0.017069, Epoch Runtime: 11.16 seconds\n",
            "Epoch: 165, Train Loss: 0.015953, Epoch Runtime: 11.23 seconds\n",
            "Epoch: 166, Train Loss: 0.001202, Epoch Runtime: 11.05 seconds\n",
            "Epoch: 167, Train Loss: 0.000796, Epoch Runtime: 11.25 seconds\n",
            "Epoch: 168, Train Loss: 0.040565, Epoch Runtime: 10.83 seconds\n",
            "Epoch: 169, Train Loss: 0.000272, Epoch Runtime: 11.28 seconds\n",
            "Epoch: 170, Train Loss: 0.004301, Epoch Runtime: 11.04 seconds\n",
            "Epoch: 171, Train Loss: 0.039530, Epoch Runtime: 10.53 seconds\n",
            "Epoch: 172, Train Loss: 0.006206, Epoch Runtime: 10.52 seconds\n",
            "Epoch: 173, Train Loss: 0.000510, Epoch Runtime: 11.11 seconds\n",
            "Epoch: 174, Train Loss: 0.009549, Epoch Runtime: 11.10 seconds\n",
            "Epoch: 175, Train Loss: 0.002718, Epoch Runtime: 10.32 seconds\n",
            "Epoch: 176, Train Loss: 0.156892, Epoch Runtime: 10.35 seconds\n",
            "Epoch: 177, Train Loss: 0.001713, Epoch Runtime: 10.71 seconds\n",
            "Epoch: 178, Train Loss: 0.000798, Epoch Runtime: 8.29 seconds\n",
            "Epoch: 179, Train Loss: 0.004084, Epoch Runtime: 10.69 seconds\n",
            "Epoch: 180, Train Loss: 0.001259, Epoch Runtime: 10.68 seconds\n",
            "Epoch: 181, Train Loss: 0.002385, Epoch Runtime: 9.20 seconds\n",
            "Epoch: 182, Train Loss: 0.002652, Epoch Runtime: 10.76 seconds\n",
            "Epoch: 183, Train Loss: 0.000489, Epoch Runtime: 10.65 seconds\n",
            "Epoch: 184, Train Loss: 0.002178, Epoch Runtime: 10.55 seconds\n",
            "Epoch: 185, Train Loss: 0.000310, Epoch Runtime: 10.80 seconds\n",
            "Epoch: 186, Train Loss: 0.000438, Epoch Runtime: 10.83 seconds\n",
            "Epoch: 187, Train Loss: 0.000155, Epoch Runtime: 11.07 seconds\n",
            "Epoch: 188, Train Loss: 0.000341, Epoch Runtime: 11.17 seconds\n",
            "Epoch: 189, Train Loss: 0.002270, Epoch Runtime: 11.35 seconds\n",
            "Epoch: 190, Train Loss: 0.004145, Epoch Runtime: 11.04 seconds\n",
            "Epoch: 191, Train Loss: 0.008692, Epoch Runtime: 10.32 seconds\n",
            "Epoch: 192, Train Loss: 0.001618, Epoch Runtime: 10.99 seconds\n",
            "Epoch: 193, Train Loss: 0.001821, Epoch Runtime: 10.94 seconds\n",
            "Epoch: 194, Train Loss: 0.000261, Epoch Runtime: 11.10 seconds\n",
            "Epoch: 195, Train Loss: 0.001329, Epoch Runtime: 8.34 seconds\n",
            "Epoch: 196, Train Loss: 0.000309, Epoch Runtime: 10.84 seconds\n",
            "Epoch: 197, Train Loss: 0.000337, Epoch Runtime: 10.94 seconds\n",
            "Epoch: 198, Train Loss: 0.000463, Epoch Runtime: 10.92 seconds\n",
            "Epoch: 199, Train Loss: 0.001743, Epoch Runtime: 10.71 seconds\n",
            "Epoch: 200, Train Loss: 0.000250, Epoch Runtime: 11.07 seconds\n",
            "Total Training Time: 2158.27 seconds\n"
          ]
        },
        {
          "data": {
            "image/png": "[encoded data removed]",
            "text/plain": [
              "<Figure size 1000x600 with 1 Axes>"
            ]
          },
          "metadata": {},
          "output_type": "display_data"
        }
      ],
      "source": [
        "loss_fn = nn.CrossEntropyLoss()\n",
        "optimizer = optim.SGD(model.parameters(), lr=1e-2)\n",
        "# Training loop\n",
        "num_epochs = 200\n",
        "total_start_time = time.time()\n",
        "losses=[]\n",
        "for epoch in range(num_epochs):\n",
        "    start_time = time.time()\n",
        "    for imgs, labels in train_loader:\n",
        "        imgs, labels = imgs.to(device1), labels.to(device1)\n",
        "        outputs=model(imgs)\n",
        "        loss = loss_fn(outputs, labels)\n",
        "        optimizer.zero_grad()\n",
        "        loss.backward()\n",
        "        optimizer.step()\n",
        "    # Calculate training time\n",
        "    end_time = time.time()\n",
        "    training_time = end_time - start_time\n",
        "    print(f\"Epoch: {epoch+1}, Train Loss: {float(loss):.6f}, Epoch Runtime: {training_time:.2f} seconds\")\n",
        "    losses.append(float(loss))\n",
        "\n",
        "# Print total training time\n",
        "total_end_time = time.time()\n",
        "total_training_time = total_end_time - total_start_time\n",
        "print(f'Total Training Time: {total_training_time:.2f} seconds')\n",
        "# Plotting loss vs. epochs\n",
        "plt.figure(figsize=(10, 6))\n",
        "plt.plot(range(num_epochs), losses, marker='o', linestyle='-', color='b')\n",
        "plt.title(\"Loss vs Epochs\")\n",
        "plt.xlabel(\"Epochs\")\n",
        "plt.ylabel(\"Loss\")\n",
        "plt.grid(True)\n",
        "plt.show()"
      ]
    },
    {
      "cell_type": "code",
      "execution_count": null,
      "metadata": {
        "id": "NhwIHRuBFSZF"
      },
      "outputs": [],
      "source": [
        "val_dataset = torchvision.datasets.CIFAR10('../data-unversioned/p1ch7/', train=False, download=False,\n",
        "                          transform=transforms.ToTensor())"
      ]
    },
    {
      "cell_type": "code",
      "execution_count": null,
      "metadata": {
        "colab": {
          "base_uri": "https://localhost:8080/"
        },
        "id": "zf8d_F_SFYV9",
        "outputId": "2493d3a2-839a-4dd3-cb0a-78d0e8a8bb0b"
      },
      "outputs": [
        {
          "data": {
            "text/plain": [
              "torch.Size([3, 32, 32, 10000])"
            ]
          },
          "execution_count": 74,
          "metadata": {},
          "output_type": "execute_result"
        }
      ],
      "source": [
        "imgs = torch.stack([img_t for img_t, _ in val_dataset], dim=3)\n",
        "imgs.shape"
      ]
    },
    {
      "cell_type": "code",
      "execution_count": null,
      "metadata": {
        "colab": {
          "base_uri": "https://localhost:8080/"
        },
        "id": "LkyPp-KYFccH",
        "outputId": "0563ac15-441f-4c6b-f467-569cc613a389"
      },
      "outputs": [
        {
          "name": "stdout",
          "output_type": "stream",
          "text": [
            "tensor([0.4942, 0.4851, 0.4504])\n",
            "tensor([0.2467, 0.2429, 0.2616])\n"
          ]
        }
      ],
      "source": [
        "val_mean=imgs.view(3, -1).mean(dim=1)\n",
        "val_std=imgs.view(3, -1).std(dim=1)\n",
        "print(val_mean)\n",
        "print(val_std)\n"
      ]
    },
    {
      "cell_type": "code",
      "execution_count": null,
      "metadata": {
        "colab": {
          "base_uri": "https://localhost:8080/"
        },
        "id": "iaYGXiVhFj-m",
        "outputId": "a982994e-542d-422a-fdcd-61bd735d9fed"
      },
      "outputs": [
        {
          "data": {
            "text/plain": [
              "Normalize(mean=tensor([0.4942, 0.4851, 0.4504]), std=tensor([0.2467, 0.2429, 0.2616]))"
            ]
          },
          "execution_count": 76,
          "metadata": {},
          "output_type": "execute_result"
        }
      ],
      "source": [
        "transforms.Normalize(val_mean, val_std)"
      ]
    },
    {
      "cell_type": "code",
      "execution_count": null,
      "metadata": {
        "id": "eJzl22a2FGgr"
      },
      "outputs": [],
      "source": [
        "transformed_val_dataset = torchvision.datasets.CIFAR10(\n",
        "    '../data-unversioned/p1ch7/', train=False, download=False,\n",
        "    transform=transforms.Compose([\n",
        "        transforms.ToTensor(),\n",
        "        transforms.Normalize(train_mean,\n",
        "                             train_std)\n",
        "    ]))\n",
        "val_loader = torch.utils.data.DataLoader(transformed_val_dataset, batch_size=64, shuffle=False)"
      ]
    },
    {
      "cell_type": "code",
      "execution_count": null,
      "metadata": {
        "colab": {
          "base_uri": "https://localhost:8080/"
        },
        "id": "lXPkhlkJFrgr",
        "outputId": "50c1227f-f95b-4efa-8675-557b4ba9e146"
      },
      "outputs": [
        {
          "name": "stdout",
          "output_type": "stream",
          "text": [
            "Validation Accurracy:%f 0.7225\n"
          ]
        }
      ],
      "source": [
        "correct=0\n",
        "total=0\n",
        "with torch.no_grad():\n",
        "  for imgs, labels in val_loader:\n",
        "      imgs, labels = imgs.to(device1), labels.to(device1)\n",
        "      batch_size=imgs.shape[0]\n",
        "      outputs=model(imgs)\n",
        "      _,predicted=torch.max(outputs,dim=1)\n",
        "      total+=labels.shape[0]\n",
        "      correct+=int((predicted==labels).sum())\n",
        "print(\"Validation Accurracy:%f\", correct/total)"
      ]
    },
    {
      "cell_type": "code",
      "execution_count": null,
      "metadata": {
        "id": "8anUzzslXxyZ"
      },
      "outputs": [],
      "source": [
        "def get_model_size(model):\n",
        "    total_params = sum(p.numel() for p in model.parameters())\n",
        "    trainable_params = sum(p.numel() for p in model.parameters() if p.requires_grad)\n",
        "    return total_params, trainable_params"
      ]
    },
    {
      "cell_type": "code",
      "execution_count": null,
      "metadata": {
        "colab": {
          "base_uri": "https://localhost:8080/"
        },
        "id": "RTwIGt-toFzS",
        "outputId": "31826457-db6b-4ac0-d077-354efb11b002"
      },
      "outputs": [
        {
          "name": "stdout",
          "output_type": "stream",
          "text": [
            "  Total parameters: 537290\n",
            "  Trainable parameters: 537290\n"
          ]
        }
      ],
      "source": [
        "total_params, trainable_params = get_model_size(model)\n",
        "print(f\"  Total parameters: {total_params}\")\n",
        "print(f\"  Trainable parameters: {trainable_params}\")"
      ]
    },
    {
      "cell_type": "code",
      "execution_count": null,
      "metadata": {
        "id": "zGufDty4oFzS"
      },
      "outputs": [],
      "source": []
    },
    {
      "cell_type": "code",
      "execution_count": null,
      "metadata": {
        "id": "x7IFitn8oFzS"
      },
      "outputs": [],
      "source": []
    },
    {
      "cell_type": "code",
      "execution_count": null,
      "metadata": {
        "id": "av8u8AFUoFzS"
      },
      "outputs": [],
      "source": []
    }
  ],
  "metadata": {
    "colab": {
      "provenance": [],
      "include_colab_link": true
    },
    "kernelspec": {
      "display_name": "Python 3 (ipykernel)",
      "language": "python",
      "name": "python3"
    },
    "language_info": {
      "codemirror_mode": {
        "name": "ipython",
        "version": 3
      },
      "file_extension": ".py",
      "mimetype": "text/x-python",
      "name": "python",
      "nbconvert_exporter": "python",
      "pygments_lexer": "ipython3",
      "version": "3.12.7"
    }
  },
  "nbformat": 4,
  "nbformat_minor": 0
}