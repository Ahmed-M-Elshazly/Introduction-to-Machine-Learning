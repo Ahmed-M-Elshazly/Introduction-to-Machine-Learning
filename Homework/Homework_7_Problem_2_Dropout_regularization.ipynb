{
  "cells": [
    {
      "cell_type": "markdown",
      "metadata": {
        "id": "view-in-github",
        "colab_type": "text"
      },
      "source": [
        "<a href=\"https://colab.research.google.com/github/Ahmed-M-Elshazly/Homework-7/blob/main/Homework_7_Problem_2_Dropout_regularization.ipynb\" target=\"_parent\"><img src=\"https://colab.research.google.com/assets/colab-badge.svg\" alt=\"Open In Colab\"/></a>"
      ]
    },
    {
      "cell_type": "markdown",
      "metadata": {
        "id": "iHDVHfssy6Qz"
      },
      "source": [
        "#Homework 7\n",
        "#Problem 2- with dropout regularization\n",
        "#Ahmed Elshazly\n",
        "#801420724"
      ]
    },
    {
      "cell_type": "code",
      "execution_count": null,
      "metadata": {
        "id": "Hep86coQ0y9F"
      },
      "outputs": [],
      "source": [
        "import torch\n",
        "import torch.nn as nn\n",
        "import torch.optim as optim\n",
        "import torchvision\n",
        "import torchvision.transforms as transforms\n",
        "from sklearn.metrics import confusion_matrix, f1_score\n",
        "import time\n",
        "from matplotlib import pyplot as plt\n",
        "import numpy as np\n",
        "import torch.nn.functional as F"
      ]
    },
    {
      "cell_type": "code",
      "execution_count": null,
      "metadata": {
        "id": "D9naEwyXBVtP"
      },
      "outputs": [],
      "source": [
        "# Set device\n",
        "device1 = torch.device(\"cuda:1\" if torch.cuda.is_available() else \"cpu\")"
      ]
    },
    {
      "cell_type": "code",
      "execution_count": null,
      "metadata": {
        "colab": {
          "base_uri": "https://localhost:8080/"
        },
        "id": "YHkVUNNr07yB",
        "outputId": "6eb2c3df-ddad-48d2-bd1e-ad316e20034b"
      },
      "outputs": [
        {
          "name": "stdout",
          "output_type": "stream",
          "text": [
            "Files already downloaded and verified\n",
            "Files already downloaded and verified\n"
          ]
        }
      ],
      "source": [
        "# Load CIFAR-10 dataset to calculate mean and std\n",
        "train_dataset = torchvision.datasets.CIFAR10('../data-unversioned/p1ch7/', train=True, download=True)\n",
        "val_dataset = torchvision.datasets.CIFAR10('../data-unversioned/p1ch7/', train=False, download=True)"
      ]
    },
    {
      "cell_type": "code",
      "execution_count": null,
      "metadata": {
        "colab": {
          "base_uri": "https://localhost:8080/"
        },
        "id": "7r6zOQ6m2d4C",
        "outputId": "1a1f7e40-9ecf-4aa1-c11e-5188cd02cd05"
      },
      "outputs": [
        {
          "data": {
            "text/plain": [
              "(<PIL.Image.Image image mode=RGB size=32x32>, 8, 'ship')"
            ]
          },
          "execution_count": 26,
          "metadata": {},
          "output_type": "execute_result"
        }
      ],
      "source": [
        "class_names = ['airplane', 'automobile', 'bird', 'cat', 'deer', 'dog', 'frog', 'horse', 'ship', 'truck']\n",
        "img, label = train_dataset[100]\n",
        "img, label, class_names[label]"
      ]
    },
    {
      "cell_type": "code",
      "execution_count": null,
      "metadata": {
        "colab": {
          "base_uri": "https://localhost:8080/"
        },
        "id": "VdEKFBd_3lrf",
        "outputId": "72609413-75d7-4e1e-dbcf-01b9954b0dc1"
      },
      "outputs": [
        {
          "data": {
            "text/plain": [
              "50000"
            ]
          },
          "execution_count": 27,
          "metadata": {},
          "output_type": "execute_result"
        }
      ],
      "source": [
        "len(train_dataset)"
      ]
    },
    {
      "cell_type": "code",
      "execution_count": null,
      "metadata": {
        "colab": {
          "base_uri": "https://localhost:8080/",
          "height": 430
        },
        "id": "rGxLyiU14Ydc",
        "outputId": "e306ff33-10c9-42a1-a3b8-4bb94f6a36d4"
      },
      "outputs": [
        {
          "data": {
            "image/png": "[encoded data removed]",
            "text/plain": [
              "<Figure size 640x480 with 1 Axes>"
            ]
          },
          "metadata": {},
          "output_type": "display_data"
        }
      ],
      "source": [
        "plt.imshow(img)\n",
        "plt.show()"
      ]
    },
    {
      "cell_type": "code",
      "execution_count": null,
      "metadata": {
        "colab": {
          "base_uri": "https://localhost:8080/"
        },
        "id": "UkTGbkNd4mY4",
        "outputId": "c03ca739-983f-4330-8b8f-2bece6da854e"
      },
      "outputs": [
        {
          "data": {
            "text/plain": [
              "torch.Size([3, 32, 32])"
            ]
          },
          "execution_count": 29,
          "metadata": {},
          "output_type": "execute_result"
        }
      ],
      "source": [
        "from torchvision import transforms\n",
        "\n",
        "to_tensor = transforms.ToTensor()\n",
        "img_t = to_tensor(img)\n",
        "img_t.shape"
      ]
    },
    {
      "cell_type": "code",
      "execution_count": null,
      "metadata": {
        "colab": {
          "base_uri": "https://localhost:8080/"
        },
        "id": "G2pj3M836NT0",
        "outputId": "d82d4015-2382-426d-82af-2eb7dda560e7"
      },
      "outputs": [
        {
          "data": {
            "text/plain": [
              "torch.Size([3, 32, 32, 50000])"
            ]
          },
          "execution_count": 30,
          "metadata": {},
          "output_type": "execute_result"
        }
      ],
      "source": [
        "train_dataset = torchvision.datasets.CIFAR10('../data-unversioned/p1ch7/', train=True, download=False,\n",
        "                          transform=transforms.ToTensor())\n",
        "imgs = torch.stack([img_t for img_t, _ in train_dataset], dim=3)\n",
        "imgs.shape"
      ]
    },
    {
      "cell_type": "code",
      "execution_count": null,
      "metadata": {
        "colab": {
          "base_uri": "https://localhost:8080/",
          "height": 430
        },
        "id": "ffgriKfr8D3J",
        "outputId": "0d0f0357-e1af-47ce-bfda-28d46cb58e17"
      },
      "outputs": [
        {
          "data": {
            "image/png": "[encoded data removed]",
            "text/plain": [
              "<Figure size 640x480 with 1 Axes>"
            ]
          },
          "metadata": {},
          "output_type": "display_data"
        }
      ],
      "source": [
        "plt.imshow(img_t.permute(1, 2, 0))  # <1>\n",
        "plt.show()"
      ]
    },
    {
      "cell_type": "code",
      "execution_count": null,
      "metadata": {
        "colab": {
          "base_uri": "https://localhost:8080/"
        },
        "id": "0fauThWj8EdP",
        "outputId": "ebe6b942-e76f-495d-d0a4-fcee0ea09975"
      },
      "outputs": [
        {
          "name": "stdout",
          "output_type": "stream",
          "text": [
            "tensor([0.4914, 0.4822, 0.4465])\n",
            "tensor([0.2470, 0.2435, 0.2616])\n"
          ]
        }
      ],
      "source": [
        "train_mean=imgs.view(3, -1).mean(dim=1)\n",
        "train_std=imgs.view(3, -1).std(dim=1)\n",
        "print(train_mean)\n",
        "print(train_std)\n"
      ]
    },
    {
      "cell_type": "code",
      "execution_count": null,
      "metadata": {
        "colab": {
          "base_uri": "https://localhost:8080/"
        },
        "id": "IL7MIlnq8mGi",
        "outputId": "0e6c2ad7-9cb5-45be-88e9-a4444241c185"
      },
      "outputs": [
        {
          "data": {
            "text/plain": [
              "Normalize(mean=tensor([0.4914, 0.4822, 0.4465]), std=tensor([0.2470, 0.2435, 0.2616]))"
            ]
          },
          "execution_count": 33,
          "metadata": {},
          "output_type": "execute_result"
        }
      ],
      "source": [
        "transforms.Normalize(train_mean, train_std)\n"
      ]
    },
    {
      "cell_type": "code",
      "execution_count": null,
      "metadata": {
        "id": "k_lIbn4_864u"
      },
      "outputs": [],
      "source": [
        "transformed_train_dataset = torchvision.datasets.CIFAR10(\n",
        "    '../data-unversioned/p1ch7/', train=True, download=False,\n",
        "    transform=transforms.Compose([\n",
        "        transforms.ToTensor(),\n",
        "        transforms.Normalize(train_mean,\n",
        "                             train_std)\n",
        "    ]))\n",
        "train_loader = torch.utils.data.DataLoader(transformed_train_dataset, batch_size=64, shuffle=True)"
      ]
    },
    {
      "cell_type": "code",
      "execution_count": null,
      "metadata": {
        "id": "ynOLL2IY_N3a"
      },
      "outputs": [],
      "source": []
    },
    {
      "cell_type": "code",
      "execution_count": null,
      "metadata": {
        "id": "ZSBI3xwxArTi"
      },
      "outputs": [],
      "source": [
        "class ResBlock(nn.Module):\n",
        "    def __init__(self, n_chans):\n",
        "        super(ResBlock, self).__init__()\n",
        "        self.conv = nn.Conv2d(n_chans, n_chans, kernel_size=3,\n",
        "                              padding=1, bias=False)\n",
        "        self.batch_norm = nn.BatchNorm2d(num_features=n_chans)\n",
        "        self.dropout = nn.Dropout(0.3)\n",
        "        torch.nn.init.kaiming_normal_(self.conv.weight,\n",
        "                                      nonlinearity='relu')\n",
        "        torch.nn.init.constant_(self.batch_norm.weight, 0.5)\n",
        "        torch.nn.init.zeros_(self.batch_norm.bias)\n",
        "\n",
        "    def forward(self, x):\n",
        "        out = self.conv(x)\n",
        "        out = self.batch_norm(out)\n",
        "        out = torch.relu(out)\n",
        "        out = self.dropout(out)\n",
        "        return out + x\n",
        "\n",
        "class NetResDeep(nn.Module):\n",
        "    def __init__(self, n_chans1=32, n_blocks=10):\n",
        "        super().__init__()\n",
        "        self.n_chans1 = n_chans1\n",
        "        self.conv1 = nn.Conv2d(3, n_chans1, kernel_size=3, padding=1)\n",
        "        self.resblocks = nn.Sequential(\n",
        "            *(n_blocks * [ResBlock(n_chans=n_chans1)]))\n",
        "        self.fc1 = nn.Linear(8 * 8 * n_chans1, 256)\n",
        "        self.fc2 = nn.Linear(256, 10)\n",
        "\n",
        "    def forward(self, x):\n",
        "        out = F.max_pool2d(torch.relu(self.conv1(x)), 2)\n",
        "        out = self.resblocks(out)\n",
        "        out = F.max_pool2d(out, 2)\n",
        "        out = out.view(-1, 8 * 8 * self.n_chans1)\n",
        "        out = torch.relu(self.fc1(out))\n",
        "        out = self.fc2(out)\n",
        "        return out\n",
        "\n",
        "\n",
        "model = NetResDeep(n_chans1=32, n_blocks=10).to(device1)"
      ]
    },
    {
      "cell_type": "code",
      "execution_count": null,
      "metadata": {
        "colab": {
          "base_uri": "https://localhost:8080/",
          "height": 1000
        },
        "id": "3jtHoziOBljm",
        "outputId": "0bee42ea-5786-4c05-d004-fcfb341de66d"
      },
      "outputs": [
        {
          "name": "stdout",
          "output_type": "stream",
          "text": [
            "Epoch: 1, Train Loss: 1.431740, Epoch Runtime: 11.71 seconds\n",
            "Epoch: 2, Train Loss: 1.181454, Epoch Runtime: 11.64 seconds\n",
            "Epoch: 3, Train Loss: 1.280667, Epoch Runtime: 10.89 seconds\n",
            "Epoch: 4, Train Loss: 1.320368, Epoch Runtime: 10.45 seconds\n",
            "Epoch: 5, Train Loss: 0.863779, Epoch Runtime: 11.15 seconds\n",
            "Epoch: 6, Train Loss: 0.799178, Epoch Runtime: 11.12 seconds\n",
            "Epoch: 7, Train Loss: 0.995338, Epoch Runtime: 11.32 seconds\n",
            "Epoch: 8, Train Loss: 0.503974, Epoch Runtime: 11.15 seconds\n",
            "Epoch: 9, Train Loss: 0.945581, Epoch Runtime: 11.01 seconds\n",
            "Epoch: 10, Train Loss: 0.514461, Epoch Runtime: 11.19 seconds\n",
            "Epoch: 11, Train Loss: 0.734138, Epoch Runtime: 10.62 seconds\n",
            "Epoch: 12, Train Loss: 0.672179, Epoch Runtime: 10.99 seconds\n",
            "Epoch: 13, Train Loss: 0.857379, Epoch Runtime: 11.08 seconds\n",
            "Epoch: 14, Train Loss: 0.354327, Epoch Runtime: 10.99 seconds\n",
            "Epoch: 15, Train Loss: 0.700924, Epoch Runtime: 11.21 seconds\n",
            "Epoch: 16, Train Loss: 0.680960, Epoch Runtime: 11.13 seconds\n",
            "Epoch: 17, Train Loss: 0.268110, Epoch Runtime: 11.13 seconds\n",
            "Epoch: 18, Train Loss: 0.389012, Epoch Runtime: 11.15 seconds\n",
            "Epoch: 19, Train Loss: 0.414260, Epoch Runtime: 11.16 seconds\n",
            "Epoch: 20, Train Loss: 0.496770, Epoch Runtime: 11.17 seconds\n",
            "Epoch: 21, Train Loss: 0.205872, Epoch Runtime: 11.15 seconds\n",
            "Epoch: 22, Train Loss: 0.264402, Epoch Runtime: 10.86 seconds\n",
            "Epoch: 23, Train Loss: 0.390935, Epoch Runtime: 11.13 seconds\n",
            "Epoch: 24, Train Loss: 0.226748, Epoch Runtime: 11.13 seconds\n",
            "Epoch: 25, Train Loss: 0.638024, Epoch Runtime: 11.03 seconds\n",
            "Epoch: 26, Train Loss: 0.112453, Epoch Runtime: 11.17 seconds\n",
            "Epoch: 27, Train Loss: 0.144914, Epoch Runtime: 11.16 seconds\n",
            "Epoch: 28, Train Loss: 0.182333, Epoch Runtime: 11.10 seconds\n",
            "Epoch: 29, Train Loss: 0.270685, Epoch Runtime: 11.07 seconds\n",
            "Epoch: 30, Train Loss: 0.264636, Epoch Runtime: 11.09 seconds\n",
            "Epoch: 31, Train Loss: 0.052799, Epoch Runtime: 11.15 seconds\n",
            "Epoch: 32, Train Loss: 0.073131, Epoch Runtime: 10.97 seconds\n",
            "Epoch: 33, Train Loss: 0.270115, Epoch Runtime: 11.10 seconds\n",
            "Epoch: 34, Train Loss: 0.544177, Epoch Runtime: 11.18 seconds\n",
            "Epoch: 35, Train Loss: 0.020887, Epoch Runtime: 11.08 seconds\n",
            "Epoch: 36, Train Loss: 0.069135, Epoch Runtime: 10.84 seconds\n",
            "Epoch: 37, Train Loss: 0.070515, Epoch Runtime: 11.12 seconds\n",
            "Epoch: 38, Train Loss: 0.024235, Epoch Runtime: 10.92 seconds\n",
            "Epoch: 39, Train Loss: 0.046174, Epoch Runtime: 11.17 seconds\n",
            "Epoch: 40, Train Loss: 0.018541, Epoch Runtime: 11.06 seconds\n",
            "Epoch: 41, Train Loss: 0.013932, Epoch Runtime: 11.65 seconds\n",
            "Epoch: 42, Train Loss: 0.050429, Epoch Runtime: 11.56 seconds\n",
            "Epoch: 43, Train Loss: 0.017097, Epoch Runtime: 11.41 seconds\n",
            "Epoch: 44, Train Loss: 0.133913, Epoch Runtime: 10.46 seconds\n",
            "Epoch: 45, Train Loss: 0.014526, Epoch Runtime: 11.35 seconds\n",
            "Epoch: 46, Train Loss: 0.038826, Epoch Runtime: 11.11 seconds\n",
            "Epoch: 47, Train Loss: 0.130839, Epoch Runtime: 10.92 seconds\n",
            "Epoch: 48, Train Loss: 0.066168, Epoch Runtime: 11.36 seconds\n",
            "Epoch: 49, Train Loss: 0.020327, Epoch Runtime: 11.00 seconds\n",
            "Epoch: 50, Train Loss: 0.003653, Epoch Runtime: 11.44 seconds\n",
            "Epoch: 51, Train Loss: 0.057418, Epoch Runtime: 10.99 seconds\n",
            "Epoch: 52, Train Loss: 0.009066, Epoch Runtime: 11.58 seconds\n",
            "Epoch: 53, Train Loss: 0.018472, Epoch Runtime: 11.11 seconds\n",
            "Epoch: 54, Train Loss: 0.003639, Epoch Runtime: 11.10 seconds\n",
            "Epoch: 55, Train Loss: 0.024769, Epoch Runtime: 11.13 seconds\n",
            "Epoch: 56, Train Loss: 0.000814, Epoch Runtime: 11.09 seconds\n",
            "Epoch: 57, Train Loss: 0.048686, Epoch Runtime: 11.29 seconds\n",
            "Epoch: 58, Train Loss: 0.021065, Epoch Runtime: 11.08 seconds\n",
            "Epoch: 59, Train Loss: 0.000994, Epoch Runtime: 11.01 seconds\n",
            "Epoch: 60, Train Loss: 0.019946, Epoch Runtime: 11.18 seconds\n",
            "Epoch: 61, Train Loss: 0.008222, Epoch Runtime: 11.14 seconds\n",
            "Epoch: 62, Train Loss: 0.054285, Epoch Runtime: 10.89 seconds\n",
            "Epoch: 63, Train Loss: 0.002725, Epoch Runtime: 11.04 seconds\n",
            "Epoch: 64, Train Loss: 0.001248, Epoch Runtime: 11.01 seconds\n",
            "Epoch: 65, Train Loss: 0.073095, Epoch Runtime: 11.06 seconds\n",
            "Epoch: 66, Train Loss: 0.014878, Epoch Runtime: 11.14 seconds\n",
            "Epoch: 67, Train Loss: 0.001279, Epoch Runtime: 11.06 seconds\n",
            "Epoch: 68, Train Loss: 0.002139, Epoch Runtime: 10.98 seconds\n",
            "Epoch: 69, Train Loss: 0.002567, Epoch Runtime: 11.11 seconds\n",
            "Epoch: 70, Train Loss: 0.022728, Epoch Runtime: 11.46 seconds\n",
            "Epoch: 71, Train Loss: 0.000238, Epoch Runtime: 11.53 seconds\n",
            "Epoch: 72, Train Loss: 0.002360, Epoch Runtime: 11.10 seconds\n",
            "Epoch: 73, Train Loss: 0.001893, Epoch Runtime: 11.04 seconds\n",
            "Epoch: 74, Train Loss: 0.132423, Epoch Runtime: 11.01 seconds\n",
            "Epoch: 75, Train Loss: 0.003252, Epoch Runtime: 11.00 seconds\n",
            "Epoch: 76, Train Loss: 0.016937, Epoch Runtime: 11.26 seconds\n",
            "Epoch: 77, Train Loss: 0.028088, Epoch Runtime: 11.24 seconds\n",
            "Epoch: 78, Train Loss: 0.023000, Epoch Runtime: 11.12 seconds\n",
            "Epoch: 79, Train Loss: 0.008469, Epoch Runtime: 11.13 seconds\n",
            "Epoch: 80, Train Loss: 0.007360, Epoch Runtime: 10.87 seconds\n",
            "Epoch: 81, Train Loss: 0.001023, Epoch Runtime: 11.16 seconds\n",
            "Epoch: 82, Train Loss: 0.032736, Epoch Runtime: 11.24 seconds\n",
            "Epoch: 83, Train Loss: 0.002591, Epoch Runtime: 11.11 seconds\n",
            "Epoch: 84, Train Loss: 0.005408, Epoch Runtime: 11.11 seconds\n",
            "Epoch: 85, Train Loss: 0.020647, Epoch Runtime: 11.11 seconds\n",
            "Epoch: 86, Train Loss: 0.032727, Epoch Runtime: 10.98 seconds\n",
            "Epoch: 87, Train Loss: 0.027345, Epoch Runtime: 11.18 seconds\n",
            "Epoch: 88, Train Loss: 0.000753, Epoch Runtime: 11.08 seconds\n",
            "Epoch: 89, Train Loss: 0.006549, Epoch Runtime: 11.16 seconds\n",
            "Epoch: 90, Train Loss: 0.001628, Epoch Runtime: 11.19 seconds\n",
            "Epoch: 91, Train Loss: 0.017751, Epoch Runtime: 11.16 seconds\n",
            "Epoch: 92, Train Loss: 0.048898, Epoch Runtime: 11.13 seconds\n",
            "Epoch: 93, Train Loss: 0.014578, Epoch Runtime: 10.40 seconds\n",
            "Epoch: 94, Train Loss: 0.005381, Epoch Runtime: 10.14 seconds\n",
            "Epoch: 95, Train Loss: 0.000261, Epoch Runtime: 11.40 seconds\n",
            "Epoch: 96, Train Loss: 0.004775, Epoch Runtime: 11.10 seconds\n",
            "Epoch: 97, Train Loss: 0.003856, Epoch Runtime: 10.04 seconds\n",
            "Epoch: 98, Train Loss: 0.000414, Epoch Runtime: 11.13 seconds\n",
            "Epoch: 99, Train Loss: 0.005101, Epoch Runtime: 11.00 seconds\n",
            "Epoch: 100, Train Loss: 0.003891, Epoch Runtime: 11.23 seconds\n",
            "Epoch: 101, Train Loss: 0.000757, Epoch Runtime: 11.36 seconds\n",
            "Epoch: 102, Train Loss: 0.001187, Epoch Runtime: 11.79 seconds\n",
            "Epoch: 103, Train Loss: 0.000472, Epoch Runtime: 11.90 seconds\n",
            "Epoch: 104, Train Loss: 0.003878, Epoch Runtime: 10.59 seconds\n",
            "Epoch: 105, Train Loss: 0.000904, Epoch Runtime: 11.70 seconds\n",
            "Epoch: 106, Train Loss: 0.000256, Epoch Runtime: 9.78 seconds\n",
            "Epoch: 107, Train Loss: 0.001377, Epoch Runtime: 11.68 seconds\n",
            "Epoch: 108, Train Loss: 0.003379, Epoch Runtime: 9.83 seconds\n",
            "Epoch: 109, Train Loss: 0.000045, Epoch Runtime: 10.19 seconds\n",
            "Epoch: 110, Train Loss: 0.001328, Epoch Runtime: 10.40 seconds\n",
            "Epoch: 111, Train Loss: 0.009523, Epoch Runtime: 11.76 seconds\n",
            "Epoch: 112, Train Loss: 0.000145, Epoch Runtime: 10.27 seconds\n",
            "Epoch: 113, Train Loss: 0.006258, Epoch Runtime: 11.51 seconds\n",
            "Epoch: 114, Train Loss: 0.000249, Epoch Runtime: 11.21 seconds\n",
            "Epoch: 115, Train Loss: 0.000761, Epoch Runtime: 11.47 seconds\n",
            "Epoch: 116, Train Loss: 0.000177, Epoch Runtime: 11.71 seconds\n",
            "Epoch: 117, Train Loss: 0.038666, Epoch Runtime: 11.63 seconds\n",
            "Epoch: 118, Train Loss: 0.010379, Epoch Runtime: 11.38 seconds\n",
            "Epoch: 119, Train Loss: 0.001326, Epoch Runtime: 10.24 seconds\n",
            "Epoch: 120, Train Loss: 0.001271, Epoch Runtime: 11.93 seconds\n",
            "Epoch: 121, Train Loss: 0.002251, Epoch Runtime: 11.26 seconds\n",
            "Epoch: 122, Train Loss: 0.001439, Epoch Runtime: 11.34 seconds\n",
            "Epoch: 123, Train Loss: 0.000442, Epoch Runtime: 11.65 seconds\n",
            "Epoch: 124, Train Loss: 0.000402, Epoch Runtime: 9.35 seconds\n",
            "Epoch: 125, Train Loss: 0.000054, Epoch Runtime: 11.19 seconds\n",
            "Epoch: 126, Train Loss: 0.000451, Epoch Runtime: 9.82 seconds\n",
            "Epoch: 127, Train Loss: 0.000326, Epoch Runtime: 10.39 seconds\n",
            "Epoch: 128, Train Loss: 0.002601, Epoch Runtime: 10.69 seconds\n",
            "Epoch: 129, Train Loss: 0.000219, Epoch Runtime: 11.74 seconds\n",
            "Epoch: 130, Train Loss: 0.000903, Epoch Runtime: 10.14 seconds\n",
            "Epoch: 131, Train Loss: 0.011134, Epoch Runtime: 10.17 seconds\n",
            "Epoch: 132, Train Loss: 0.004365, Epoch Runtime: 10.26 seconds\n",
            "Epoch: 133, Train Loss: 0.000433, Epoch Runtime: 11.83 seconds\n",
            "Epoch: 134, Train Loss: 0.000248, Epoch Runtime: 11.55 seconds\n",
            "Epoch: 135, Train Loss: 0.013983, Epoch Runtime: 10.14 seconds\n",
            "Epoch: 136, Train Loss: 0.000064, Epoch Runtime: 11.71 seconds\n",
            "Epoch: 137, Train Loss: 0.004940, Epoch Runtime: 11.87 seconds\n",
            "Epoch: 138, Train Loss: 0.005436, Epoch Runtime: 10.67 seconds\n",
            "Epoch: 139, Train Loss: 0.002502, Epoch Runtime: 9.87 seconds\n",
            "Epoch: 140, Train Loss: 0.003262, Epoch Runtime: 11.92 seconds\n",
            "Epoch: 141, Train Loss: 0.002460, Epoch Runtime: 11.12 seconds\n",
            "Epoch: 142, Train Loss: 0.000103, Epoch Runtime: 11.73 seconds\n",
            "Epoch: 143, Train Loss: 0.000250, Epoch Runtime: 11.88 seconds\n",
            "Epoch: 144, Train Loss: 0.033838, Epoch Runtime: 11.87 seconds\n",
            "Epoch: 145, Train Loss: 0.002962, Epoch Runtime: 10.06 seconds\n",
            "Epoch: 146, Train Loss: 0.000129, Epoch Runtime: 11.34 seconds\n",
            "Epoch: 147, Train Loss: 0.000034, Epoch Runtime: 11.93 seconds\n",
            "Epoch: 148, Train Loss: 0.010948, Epoch Runtime: 9.60 seconds\n",
            "Epoch: 149, Train Loss: 0.000292, Epoch Runtime: 11.59 seconds\n",
            "Epoch: 150, Train Loss: 0.003299, Epoch Runtime: 9.73 seconds\n",
            "Epoch: 151, Train Loss: 0.000109, Epoch Runtime: 11.65 seconds\n",
            "Epoch: 152, Train Loss: 0.004437, Epoch Runtime: 12.02 seconds\n",
            "Epoch: 153, Train Loss: 0.000796, Epoch Runtime: 9.69 seconds\n",
            "Epoch: 154, Train Loss: 0.000859, Epoch Runtime: 11.90 seconds\n",
            "Epoch: 155, Train Loss: 0.000516, Epoch Runtime: 11.13 seconds\n",
            "Epoch: 156, Train Loss: 0.002140, Epoch Runtime: 11.23 seconds\n",
            "Epoch: 157, Train Loss: 0.000136, Epoch Runtime: 11.90 seconds\n",
            "Epoch: 158, Train Loss: 0.000246, Epoch Runtime: 12.02 seconds\n",
            "Epoch: 159, Train Loss: 0.006190, Epoch Runtime: 10.43 seconds\n",
            "Epoch: 160, Train Loss: 0.000614, Epoch Runtime: 11.76 seconds\n",
            "Epoch: 161, Train Loss: 0.001275, Epoch Runtime: 11.69 seconds\n",
            "Epoch: 162, Train Loss: 0.003346, Epoch Runtime: 10.75 seconds\n",
            "Epoch: 163, Train Loss: 0.000052, Epoch Runtime: 11.09 seconds\n",
            "Epoch: 164, Train Loss: 0.014095, Epoch Runtime: 11.26 seconds\n",
            "Epoch: 165, Train Loss: 0.003505, Epoch Runtime: 11.94 seconds\n",
            "Epoch: 166, Train Loss: 0.004253, Epoch Runtime: 11.93 seconds\n",
            "Epoch: 167, Train Loss: 0.034530, Epoch Runtime: 11.21 seconds\n",
            "Epoch: 168, Train Loss: 0.003121, Epoch Runtime: 10.43 seconds\n",
            "Epoch: 169, Train Loss: 0.001136, Epoch Runtime: 11.88 seconds\n",
            "Epoch: 170, Train Loss: 0.000081, Epoch Runtime: 11.87 seconds\n",
            "Epoch: 171, Train Loss: 0.000862, Epoch Runtime: 11.68 seconds\n",
            "Epoch: 172, Train Loss: 0.000055, Epoch Runtime: 10.91 seconds\n",
            "Epoch: 173, Train Loss: 0.006790, Epoch Runtime: 10.56 seconds\n",
            "Epoch: 174, Train Loss: 0.001423, Epoch Runtime: 10.21 seconds\n",
            "Epoch: 175, Train Loss: 0.000605, Epoch Runtime: 10.60 seconds\n",
            "Epoch: 176, Train Loss: 0.000118, Epoch Runtime: 11.66 seconds\n",
            "Epoch: 177, Train Loss: 0.001290, Epoch Runtime: 11.62 seconds\n",
            "Epoch: 178, Train Loss: 0.000512, Epoch Runtime: 11.65 seconds\n",
            "Epoch: 179, Train Loss: 0.000112, Epoch Runtime: 10.93 seconds\n",
            "Epoch: 180, Train Loss: 0.001998, Epoch Runtime: 11.59 seconds\n",
            "Epoch: 181, Train Loss: 0.001658, Epoch Runtime: 10.48 seconds\n",
            "Epoch: 182, Train Loss: 0.000182, Epoch Runtime: 11.57 seconds\n",
            "Epoch: 183, Train Loss: 0.000033, Epoch Runtime: 10.76 seconds\n",
            "Epoch: 184, Train Loss: 0.000475, Epoch Runtime: 9.18 seconds\n",
            "Epoch: 185, Train Loss: 0.001337, Epoch Runtime: 10.47 seconds\n",
            "Epoch: 186, Train Loss: 0.031397, Epoch Runtime: 11.57 seconds\n",
            "Epoch: 187, Train Loss: 0.000569, Epoch Runtime: 11.87 seconds\n",
            "Epoch: 188, Train Loss: 0.000249, Epoch Runtime: 11.07 seconds\n",
            "Epoch: 189, Train Loss: 0.013312, Epoch Runtime: 11.38 seconds\n",
            "Epoch: 190, Train Loss: 0.002182, Epoch Runtime: 11.53 seconds\n",
            "Epoch: 191, Train Loss: 0.004743, Epoch Runtime: 10.61 seconds\n",
            "Epoch: 192, Train Loss: 0.167486, Epoch Runtime: 10.96 seconds\n",
            "Epoch: 193, Train Loss: 0.001413, Epoch Runtime: 11.02 seconds\n",
            "Epoch: 194, Train Loss: 0.001147, Epoch Runtime: 10.95 seconds\n",
            "Epoch: 195, Train Loss: 0.000921, Epoch Runtime: 10.62 seconds\n",
            "Epoch: 196, Train Loss: 0.000373, Epoch Runtime: 11.78 seconds\n",
            "Epoch: 197, Train Loss: 0.001317, Epoch Runtime: 10.95 seconds\n",
            "Epoch: 198, Train Loss: 0.000343, Epoch Runtime: 11.37 seconds\n",
            "Epoch: 199, Train Loss: 0.000408, Epoch Runtime: 10.46 seconds\n",
            "Epoch: 200, Train Loss: 0.000471, Epoch Runtime: 11.36 seconds\n",
            "Total Training Time: 2219.77 seconds\n"
          ]
        },
        {
          "data": {
            "image/png": "[encoded data removed]",
            "text/plain": [
              "<Figure size 1000x600 with 1 Axes>"
            ]
          },
          "metadata": {},
          "output_type": "display_data"
        }
      ],
      "source": [
        "loss_fn = nn.CrossEntropyLoss()\n",
        "optimizer = optim.SGD(model.parameters(), lr=1e-2)\n",
        "# Training loop\n",
        "num_epochs = 200\n",
        "total_start_time = time.time()\n",
        "losses=[]\n",
        "for epoch in range(num_epochs):\n",
        "    start_time = time.time()\n",
        "    for imgs, labels in train_loader:\n",
        "        imgs, labels = imgs.to(device1), labels.to(device1)\n",
        "        outputs=model(imgs)\n",
        "        loss = loss_fn(outputs, labels)\n",
        "        optimizer.zero_grad()\n",
        "        loss.backward()\n",
        "        optimizer.step()\n",
        "    # Calculate training time\n",
        "    end_time = time.time()\n",
        "    training_time = end_time - start_time\n",
        "    print(f\"Epoch: {epoch+1}, Train Loss: {float(loss):.6f}, Epoch Runtime: {training_time:.2f} seconds\")\n",
        "    losses.append(float(loss))\n",
        "\n",
        "# Print total training time\n",
        "total_end_time = time.time()\n",
        "total_training_time = total_end_time - total_start_time\n",
        "print(f'Total Training Time: {total_training_time:.2f} seconds')\n",
        "# Plotting loss vs. epochs\n",
        "plt.figure(figsize=(10, 6))\n",
        "plt.plot(range(num_epochs), losses, marker='o', linestyle='-', color='b')\n",
        "plt.title(\"Loss vs Epochs\")\n",
        "plt.xlabel(\"Epochs\")\n",
        "plt.ylabel(\"Loss\")\n",
        "plt.grid(True)\n",
        "plt.show()"
      ]
    },
    {
      "cell_type": "code",
      "execution_count": null,
      "metadata": {
        "id": "NhwIHRuBFSZF"
      },
      "outputs": [],
      "source": [
        "val_dataset = torchvision.datasets.CIFAR10('../data-unversioned/p1ch7/', train=False, download=False,\n",
        "                          transform=transforms.ToTensor())"
      ]
    },
    {
      "cell_type": "code",
      "execution_count": null,
      "metadata": {
        "colab": {
          "base_uri": "https://localhost:8080/"
        },
        "id": "zf8d_F_SFYV9",
        "outputId": "2493d3a2-839a-4dd3-cb0a-78d0e8a8bb0b"
      },
      "outputs": [
        {
          "data": {
            "text/plain": [
              "torch.Size([3, 32, 32, 10000])"
            ]
          },
          "execution_count": 38,
          "metadata": {},
          "output_type": "execute_result"
        }
      ],
      "source": [
        "imgs = torch.stack([img_t for img_t, _ in val_dataset], dim=3)\n",
        "imgs.shape"
      ]
    },
    {
      "cell_type": "code",
      "execution_count": null,
      "metadata": {
        "colab": {
          "base_uri": "https://localhost:8080/"
        },
        "id": "LkyPp-KYFccH",
        "outputId": "0563ac15-441f-4c6b-f467-569cc613a389"
      },
      "outputs": [
        {
          "name": "stdout",
          "output_type": "stream",
          "text": [
            "tensor([0.4942, 0.4851, 0.4504])\n",
            "tensor([0.2467, 0.2429, 0.2616])\n"
          ]
        }
      ],
      "source": [
        "val_mean=imgs.view(3, -1).mean(dim=1)\n",
        "val_std=imgs.view(3, -1).std(dim=1)\n",
        "print(val_mean)\n",
        "print(val_std)\n"
      ]
    },
    {
      "cell_type": "code",
      "execution_count": null,
      "metadata": {
        "colab": {
          "base_uri": "https://localhost:8080/"
        },
        "id": "iaYGXiVhFj-m",
        "outputId": "a982994e-542d-422a-fdcd-61bd735d9fed"
      },
      "outputs": [
        {
          "data": {
            "text/plain": [
              "Normalize(mean=tensor([0.4942, 0.4851, 0.4504]), std=tensor([0.2467, 0.2429, 0.2616]))"
            ]
          },
          "execution_count": 40,
          "metadata": {},
          "output_type": "execute_result"
        }
      ],
      "source": [
        "transforms.Normalize(val_mean, val_std)"
      ]
    },
    {
      "cell_type": "code",
      "execution_count": null,
      "metadata": {
        "id": "eJzl22a2FGgr"
      },
      "outputs": [],
      "source": [
        "transformed_val_dataset = torchvision.datasets.CIFAR10(\n",
        "    '../data-unversioned/p1ch7/', train=False, download=False,\n",
        "    transform=transforms.Compose([\n",
        "        transforms.ToTensor(),\n",
        "        transforms.Normalize(train_mean,\n",
        "                             train_std)\n",
        "    ]))\n",
        "val_loader = torch.utils.data.DataLoader(transformed_val_dataset, batch_size=64, shuffle=False)"
      ]
    },
    {
      "cell_type": "code",
      "execution_count": null,
      "metadata": {
        "colab": {
          "base_uri": "https://localhost:8080/"
        },
        "id": "lXPkhlkJFrgr",
        "outputId": "50c1227f-f95b-4efa-8675-557b4ba9e146"
      },
      "outputs": [
        {
          "name": "stdout",
          "output_type": "stream",
          "text": [
            "Validation Accurracy:%f 0.7244\n"
          ]
        }
      ],
      "source": [
        "correct=0\n",
        "total=0\n",
        "with torch.no_grad():\n",
        "  for imgs, labels in val_loader:\n",
        "      imgs, labels = imgs.to(device1), labels.to(device1)\n",
        "      batch_size=imgs.shape[0]\n",
        "      outputs=model(imgs)\n",
        "      _,predicted=torch.max(outputs,dim=1)\n",
        "      total+=labels.shape[0]\n",
        "      correct+=int((predicted==labels).sum())\n",
        "print(\"Validation Accurracy:%f\", correct/total)"
      ]
    },
    {
      "cell_type": "code",
      "execution_count": null,
      "metadata": {
        "id": "8anUzzslXxyZ"
      },
      "outputs": [],
      "source": [
        "def get_model_size(model):\n",
        "    total_params = sum(p.numel() for p in model.parameters())\n",
        "    trainable_params = sum(p.numel() for p in model.parameters() if p.requires_grad)\n",
        "    return total_params, trainable_params"
      ]
    },
    {
      "cell_type": "code",
      "execution_count": null,
      "metadata": {
        "colab": {
          "base_uri": "https://localhost:8080/"
        },
        "id": "RTwIGt-toFzS",
        "outputId": "31826457-db6b-4ac0-d077-354efb11b002"
      },
      "outputs": [
        {
          "name": "stdout",
          "output_type": "stream",
          "text": [
            "  Total parameters: 537290\n",
            "  Trainable parameters: 537290\n"
          ]
        }
      ],
      "source": [
        "total_params, trainable_params = get_model_size(model)\n",
        "print(f\"  Total parameters: {total_params}\")\n",
        "print(f\"  Trainable parameters: {trainable_params}\")"
      ]
    },
    {
      "cell_type": "code",
      "execution_count": null,
      "metadata": {
        "id": "zGufDty4oFzS"
      },
      "outputs": [],
      "source": []
    },
    {
      "cell_type": "code",
      "execution_count": null,
      "metadata": {
        "id": "x7IFitn8oFzS"
      },
      "outputs": [],
      "source": []
    },
    {
      "cell_type": "code",
      "execution_count": null,
      "metadata": {
        "id": "av8u8AFUoFzS"
      },
      "outputs": [],
      "source": []
    }
  ],
  "metadata": {
    "colab": {
      "provenance": [],
      "include_colab_link": true
    },
    "kernelspec": {
      "display_name": "Python 3 (ipykernel)",
      "language": "python",
      "name": "python3"
    },
    "language_info": {
      "codemirror_mode": {
        "name": "ipython",
        "version": 3
      },
      "file_extension": ".py",
      "mimetype": "text/x-python",
      "name": "python",
      "nbconvert_exporter": "python",
      "pygments_lexer": "ipython3",
      "version": "3.12.7"
    }
  },
  "nbformat": 4,
  "nbformat_minor": 0
}