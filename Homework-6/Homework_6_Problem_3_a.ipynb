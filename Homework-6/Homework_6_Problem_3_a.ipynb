{
  "cells": [
    {
      "cell_type": "markdown",
      "metadata": {
        "id": "view-in-github",
        "colab_type": "text"
      },
      "source": [
        "<a href=\"https://colab.research.google.com/github/Ahmed-M-Elshazly/Homework-6/blob/main/Homework_6_Problem_3_a.ipynb\" target=\"_parent\"><img src=\"https://colab.research.google.com/assets/colab-badge.svg\" alt=\"Open In Colab\"/></a>"
      ]
    },
    {
      "cell_type": "markdown",
      "source": [
        "#Homework 6\n",
        "#Problem 3-a\n",
        "#Ahmed Elshazly\n",
        "#801420724"
      ],
      "metadata": {
        "id": "JEzqelbxzJPY"
      }
    },
    {
      "cell_type": "code",
      "execution_count": null,
      "metadata": {
        "id": "Hep86coQ0y9F"
      },
      "outputs": [],
      "source": [
        "import torch\n",
        "import torch.nn as nn\n",
        "import torch.optim as optim\n",
        "import torchvision\n",
        "import torchvision.transforms as transforms\n",
        "from sklearn.metrics import confusion_matrix, f1_score\n",
        "import time\n",
        "from matplotlib import pyplot as plt\n",
        "import numpy as np"
      ]
    },
    {
      "cell_type": "code",
      "execution_count": null,
      "metadata": {
        "id": "D9naEwyXBVtP"
      },
      "outputs": [],
      "source": [
        "# Set device\n",
        "device = torch.device(\"cuda:0\" if torch.cuda.is_available() else \"cpu\")"
      ]
    },
    {
      "cell_type": "code",
      "execution_count": null,
      "metadata": {
        "colab": {
          "base_uri": "https://localhost:8080/"
        },
        "id": "YHkVUNNr07yB",
        "outputId": "e8cac65e-d079-4675-a985-52e55297a7cb"
      },
      "outputs": [
        {
          "name": "stdout",
          "output_type": "stream",
          "text": [
            "Files already downloaded and verified\n",
            "Files already downloaded and verified\n"
          ]
        }
      ],
      "source": [
        "# Load CIFAR-10 dataset to calculate mean and std\n",
        "train_dataset = torchvision.datasets.CIFAR10('../data-unversioned/p1ch7/', train=True, download=True)\n",
        "val_dataset = torchvision.datasets.CIFAR10('../data-unversioned/p1ch7/', train=False, download=True)"
      ]
    },
    {
      "cell_type": "code",
      "execution_count": null,
      "metadata": {
        "colab": {
          "base_uri": "https://localhost:8080/"
        },
        "id": "7r6zOQ6m2d4C",
        "outputId": "0e76759f-a67d-4b0e-bad7-9cc418bbd6f9"
      },
      "outputs": [
        {
          "data": {
            "text/plain": [
              "(<PIL.Image.Image image mode=RGB size=32x32>, 8, 'ship')"
            ]
          },
          "execution_count": 4,
          "metadata": {},
          "output_type": "execute_result"
        }
      ],
      "source": [
        "class_names = ['airplane', 'automobile', 'bird', 'cat', 'deer', 'dog', 'frog', 'horse', 'ship', 'truck']\n",
        "img, label = train_dataset[100]\n",
        "img, label, class_names[label]"
      ]
    },
    {
      "cell_type": "code",
      "execution_count": null,
      "metadata": {
        "colab": {
          "base_uri": "https://localhost:8080/"
        },
        "id": "VdEKFBd_3lrf",
        "outputId": "10c3fbf2-a2bf-4dc0-ceb1-5bcff613aadf"
      },
      "outputs": [
        {
          "data": {
            "text/plain": [
              "50000"
            ]
          },
          "execution_count": 5,
          "metadata": {},
          "output_type": "execute_result"
        }
      ],
      "source": [
        "len(train_dataset)"
      ]
    },
    {
      "cell_type": "code",
      "execution_count": null,
      "metadata": {
        "colab": {
          "base_uri": "https://localhost:8080/",
          "height": 430
        },
        "id": "rGxLyiU14Ydc",
        "outputId": "6387a625-3f96-4719-dd12-6bf0ca47c22c"
      },
      "outputs": [
        {
          "data": {
            "image/png": "[encoded data removed]",
            "text/plain": [
              "<Figure size 640x480 with 1 Axes>"
            ]
          },
          "metadata": {},
          "output_type": "display_data"
        }
      ],
      "source": [
        "plt.imshow(img)\n",
        "plt.show()"
      ]
    },
    {
      "cell_type": "code",
      "execution_count": null,
      "metadata": {
        "colab": {
          "base_uri": "https://localhost:8080/"
        },
        "id": "UkTGbkNd4mY4",
        "outputId": "8e054631-5ef8-4423-998e-edd750705efa"
      },
      "outputs": [
        {
          "data": {
            "text/plain": [
              "torch.Size([3, 32, 32])"
            ]
          },
          "execution_count": 7,
          "metadata": {},
          "output_type": "execute_result"
        }
      ],
      "source": [
        "from torchvision import transforms\n",
        "\n",
        "to_tensor = transforms.ToTensor()\n",
        "img_t = to_tensor(img)\n",
        "img_t.shape"
      ]
    },
    {
      "cell_type": "code",
      "execution_count": null,
      "metadata": {
        "colab": {
          "base_uri": "https://localhost:8080/"
        },
        "id": "G2pj3M836NT0",
        "outputId": "463a71d2-9745-4939-af4e-da0a5a4a0883"
      },
      "outputs": [
        {
          "data": {
            "text/plain": [
              "torch.Size([3, 32, 32, 50000])"
            ]
          },
          "execution_count": 8,
          "metadata": {},
          "output_type": "execute_result"
        }
      ],
      "source": [
        "train_dataset = torchvision.datasets.CIFAR10('../data-unversioned/p1ch7/', train=True, download=False,\n",
        "                          transform=transforms.ToTensor())\n",
        "imgs = torch.stack([img_t for img_t, _ in train_dataset], dim=3)\n",
        "imgs.shape"
      ]
    },
    {
      "cell_type": "code",
      "execution_count": null,
      "metadata": {
        "colab": {
          "base_uri": "https://localhost:8080/",
          "height": 430
        },
        "id": "ffgriKfr8D3J",
        "outputId": "91fc97ca-3e7c-4480-c239-d3fbef1bb9d5"
      },
      "outputs": [
        {
          "data": {
            "image/png": "[encoded data removed]",
            "text/plain": [
              "<Figure size 640x480 with 1 Axes>"
            ]
          },
          "metadata": {},
          "output_type": "display_data"
        }
      ],
      "source": [
        "plt.imshow(img_t.permute(1, 2, 0))  # <1>\n",
        "plt.show()"
      ]
    },
    {
      "cell_type": "code",
      "execution_count": null,
      "metadata": {
        "colab": {
          "base_uri": "https://localhost:8080/"
        },
        "id": "0fauThWj8EdP",
        "outputId": "20719d93-f602-43dc-b62e-e8c75630ebe6"
      },
      "outputs": [
        {
          "name": "stdout",
          "output_type": "stream",
          "text": [
            "tensor([0.4914, 0.4822, 0.4465])\n",
            "tensor([0.2470, 0.2435, 0.2616])\n"
          ]
        }
      ],
      "source": [
        "train_mean=imgs.view(3, -1).mean(dim=1)\n",
        "train_std=imgs.view(3, -1).std(dim=1)\n",
        "print(train_mean)\n",
        "print(train_std)\n"
      ]
    },
    {
      "cell_type": "code",
      "execution_count": null,
      "metadata": {
        "colab": {
          "base_uri": "https://localhost:8080/"
        },
        "id": "IL7MIlnq8mGi",
        "outputId": "0b8df98b-86f5-4a7e-9b85-488c7d806768"
      },
      "outputs": [
        {
          "data": {
            "text/plain": [
              "Normalize(mean=tensor([0.4914, 0.4822, 0.4465]), std=tensor([0.2470, 0.2435, 0.2616]))"
            ]
          },
          "execution_count": 11,
          "metadata": {},
          "output_type": "execute_result"
        }
      ],
      "source": [
        "transforms.Normalize(train_mean, train_std)\n"
      ]
    },
    {
      "cell_type": "code",
      "execution_count": null,
      "metadata": {
        "id": "k_lIbn4_864u"
      },
      "outputs": [],
      "source": [
        "transformed_train_dataset = torchvision.datasets.CIFAR10(\n",
        "    '../data-unversioned/p1ch7/', train=True, download=False,\n",
        "    transform=transforms.Compose([\n",
        "        transforms.ToTensor(),\n",
        "        transforms.Normalize(train_mean,\n",
        "                             train_std)\n",
        "    ]))\n",
        "train_loader = torch.utils.data.DataLoader(transformed_train_dataset, batch_size=64, shuffle=True)"
      ]
    },
    {
      "cell_type": "code",
      "execution_count": null,
      "metadata": {
        "id": "ZSBI3xwxArTi"
      },
      "outputs": [],
      "source": [
        "model = nn.Sequential(\n",
        "    nn.Linear(32 * 32 * 3, 256),\n",
        "    nn.Tanh(),\n",
        "    nn.Linear(256, 10),\n",
        ").to(device)"
      ]
    },
    {
      "cell_type": "code",
      "execution_count": null,
      "metadata": {
        "colab": {
          "base_uri": "https://localhost:8080/"
        },
        "id": "3jtHoziOBljm",
        "outputId": "4eb86570-06ac-4c54-b864-f6bfb4073ca2"
      },
      "outputs": [
        {
          "name": "stdout",
          "output_type": "stream",
          "text": [
            "Epoch:0, Train Loss:1.717411\n",
            "Epoch:1, Train Loss:1.712693\n",
            "Epoch:2, Train Loss:1.754371\n",
            "Epoch:3, Train Loss:1.397188\n",
            "Epoch:4, Train Loss:1.381061\n",
            "Epoch:5, Train Loss:1.275241\n",
            "Epoch:6, Train Loss:1.325076\n",
            "Epoch:7, Train Loss:1.684379\n",
            "Epoch:8, Train Loss:1.622948\n",
            "Epoch:9, Train Loss:1.150129\n",
            "Epoch:10, Train Loss:1.232101\n",
            "Epoch:11, Train Loss:1.297036\n",
            "Epoch:12, Train Loss:1.207410\n",
            "Epoch:13, Train Loss:1.900682\n",
            "Epoch:14, Train Loss:1.597301\n",
            "Epoch:15, Train Loss:1.316749\n",
            "Epoch:16, Train Loss:1.621132\n",
            "Epoch:17, Train Loss:0.934046\n",
            "Epoch:18, Train Loss:1.316701\n",
            "Epoch:19, Train Loss:1.278744\n",
            "Epoch:20, Train Loss:0.996391\n",
            "Epoch:21, Train Loss:1.186683\n",
            "Epoch:22, Train Loss:1.261282\n",
            "Epoch:23, Train Loss:0.924378\n",
            "Epoch:24, Train Loss:0.847278\n",
            "Epoch:25, Train Loss:0.854242\n",
            "Epoch:26, Train Loss:0.774661\n",
            "Epoch:27, Train Loss:1.139846\n",
            "Epoch:28, Train Loss:1.539002\n",
            "Epoch:29, Train Loss:0.862905\n",
            "Epoch:30, Train Loss:0.931925\n",
            "Epoch:31, Train Loss:0.977345\n",
            "Epoch:32, Train Loss:0.723290\n",
            "Epoch:33, Train Loss:0.758779\n",
            "Epoch:34, Train Loss:0.905438\n",
            "Epoch:35, Train Loss:0.771243\n",
            "Epoch:36, Train Loss:0.573975\n",
            "Epoch:37, Train Loss:0.650658\n",
            "Epoch:38, Train Loss:0.562577\n",
            "Epoch:39, Train Loss:0.700461\n",
            "Epoch:40, Train Loss:0.584653\n",
            "Epoch:41, Train Loss:0.374320\n",
            "Epoch:42, Train Loss:0.726261\n",
            "Epoch:43, Train Loss:0.600620\n",
            "Epoch:44, Train Loss:0.512352\n",
            "Epoch:45, Train Loss:0.542294\n",
            "Epoch:46, Train Loss:0.588333\n",
            "Epoch:47, Train Loss:0.816202\n",
            "Epoch:48, Train Loss:0.944540\n",
            "Epoch:49, Train Loss:0.653285\n",
            "Epoch:50, Train Loss:0.713867\n",
            "Epoch:51, Train Loss:0.410588\n",
            "Epoch:52, Train Loss:0.199666\n",
            "Epoch:53, Train Loss:0.418734\n",
            "Epoch:54, Train Loss:0.477645\n",
            "Epoch:55, Train Loss:0.266911\n",
            "Epoch:56, Train Loss:0.334605\n",
            "Epoch:57, Train Loss:0.386694\n",
            "Epoch:58, Train Loss:0.412463\n",
            "Epoch:59, Train Loss:0.380574\n",
            "Epoch:60, Train Loss:0.636155\n",
            "Epoch:61, Train Loss:0.476987\n",
            "Epoch:62, Train Loss:0.310179\n",
            "Epoch:63, Train Loss:0.181501\n",
            "Epoch:64, Train Loss:0.173451\n",
            "Epoch:65, Train Loss:0.251711\n",
            "Epoch:66, Train Loss:0.153112\n",
            "Epoch:67, Train Loss:0.377928\n",
            "Epoch:68, Train Loss:0.237292\n",
            "Epoch:69, Train Loss:0.175137\n",
            "Epoch:70, Train Loss:0.124787\n",
            "Epoch:71, Train Loss:0.340986\n",
            "Epoch:72, Train Loss:0.383155\n",
            "Epoch:73, Train Loss:0.293967\n",
            "Epoch:74, Train Loss:0.142471\n",
            "Epoch:75, Train Loss:0.139639\n",
            "Epoch:76, Train Loss:0.082469\n",
            "Epoch:77, Train Loss:0.158771\n",
            "Epoch:78, Train Loss:0.169956\n",
            "Epoch:79, Train Loss:0.285674\n",
            "Epoch:80, Train Loss:0.495673\n",
            "Epoch:81, Train Loss:0.318338\n",
            "Epoch:82, Train Loss:0.113801\n",
            "Epoch:83, Train Loss:0.311362\n",
            "Epoch:84, Train Loss:0.192225\n",
            "Epoch:85, Train Loss:0.199020\n",
            "Epoch:86, Train Loss:0.127084\n",
            "Epoch:87, Train Loss:0.071051\n",
            "Epoch:88, Train Loss:0.135595\n",
            "Epoch:89, Train Loss:0.222993\n",
            "Epoch:90, Train Loss:0.107573\n",
            "Epoch:91, Train Loss:0.389659\n",
            "Epoch:92, Train Loss:0.312651\n",
            "Epoch:93, Train Loss:0.088912\n",
            "Epoch:94, Train Loss:0.054947\n",
            "Epoch:95, Train Loss:0.118591\n",
            "Epoch:96, Train Loss:0.099421\n",
            "Epoch:97, Train Loss:0.089278\n",
            "Epoch:98, Train Loss:0.081575\n",
            "Epoch:99, Train Loss:0.144345\n",
            "Total Training Time: 585.56 seconds\n",
            "Total Training Time: 585.56 seconds\n"
          ]
        },
        {
          "data": {
            "image/png": "[encoded data removed]",
            "text/plain": [
              "<Figure size 1000x600 with 1 Axes>"
            ]
          },
          "metadata": {},
          "output_type": "display_data"
        }
      ],
      "source": [
        "loss_fn = nn.CrossEntropyLoss()\n",
        "optimizer = optim.SGD(model.parameters(), lr=0.01)\n",
        "# Training loop\n",
        "num_epochs = 100\n",
        "total_start_time = time.time()\n",
        "losses=[]\n",
        "for epoch in range(num_epochs):\n",
        "    start_time = time.time()\n",
        "    for imgs, labels in train_loader:\n",
        "        imgs, labels = imgs.to(device), labels.to(device)\n",
        "        batch_size=imgs.shape[0]\n",
        "        outputs=model(imgs.view(batch_size,-1))\n",
        "        loss = loss_fn(outputs, labels)\n",
        "        optimizer.zero_grad()\n",
        "        loss.backward()\n",
        "        optimizer.step()\n",
        "    # Calculate training time\n",
        "    end_time = time.time()\n",
        "    training_time = end_time - start_time\n",
        "    print(\"Epoch:%d, Train Loss:%f\" %(epoch,float(loss)))\n",
        "    losses.append(float(loss))\n",
        "\n",
        "# Print total training time\n",
        "total_end_time = time.time()\n",
        "total_training_time = total_end_time - total_start_time\n",
        "print(f'Total Training Time: {total_training_time:.2f} seconds')\n",
        "\n",
        "# Print total training time\n",
        "total_end_time = time.time()\n",
        "total_training_time = total_end_time - total_start_time\n",
        "print(f'Total Training Time: {total_training_time:.2f} seconds')\n",
        "# Plotting loss vs. epochs\n",
        "plt.figure(figsize=(10, 6))\n",
        "plt.plot(range(num_epochs), losses, marker='o', linestyle='-', color='b')\n",
        "plt.title(\"Loss vs Epochs\")\n",
        "plt.xlabel(\"Epochs\")\n",
        "plt.ylabel(\"Loss\")\n",
        "plt.grid(True)\n",
        "plt.show()"
      ]
    },
    {
      "cell_type": "code",
      "execution_count": null,
      "metadata": {
        "id": "NhwIHRuBFSZF"
      },
      "outputs": [],
      "source": [
        "val_dataset = torchvision.datasets.CIFAR10('../data-unversioned/p1ch7/', train=False, download=False,\n",
        "                          transform=transforms.ToTensor())"
      ]
    },
    {
      "cell_type": "code",
      "execution_count": null,
      "metadata": {
        "colab": {
          "base_uri": "https://localhost:8080/"
        },
        "id": "zf8d_F_SFYV9",
        "outputId": "23d1b6de-444c-4971-880e-10774bdd3c33"
      },
      "outputs": [
        {
          "data": {
            "text/plain": [
              "torch.Size([3, 32, 32, 10000])"
            ]
          },
          "execution_count": 31,
          "metadata": {},
          "output_type": "execute_result"
        }
      ],
      "source": [
        "imgs = torch.stack([img_t for img_t, _ in val_dataset], dim=3)\n",
        "imgs.shape"
      ]
    },
    {
      "cell_type": "code",
      "execution_count": null,
      "metadata": {
        "colab": {
          "base_uri": "https://localhost:8080/"
        },
        "id": "LkyPp-KYFccH",
        "outputId": "950645ce-7fc2-4c91-e54e-dc0b603898e3"
      },
      "outputs": [
        {
          "name": "stdout",
          "output_type": "stream",
          "text": [
            "tensor([0.4942, 0.4851, 0.4504])\n",
            "tensor([0.2467, 0.2429, 0.2616])\n"
          ]
        }
      ],
      "source": [
        "val_mean=imgs.view(3, -1).mean(dim=1)\n",
        "val_std=imgs.view(3, -1).std(dim=1)\n",
        "print(val_mean)\n",
        "print(val_std)\n"
      ]
    },
    {
      "cell_type": "code",
      "execution_count": null,
      "metadata": {
        "colab": {
          "base_uri": "https://localhost:8080/"
        },
        "id": "iaYGXiVhFj-m",
        "outputId": "36b1bdb7-7689-4ff6-bde7-a1bc194f5e41"
      },
      "outputs": [
        {
          "data": {
            "text/plain": [
              "Normalize(mean=tensor([0.4942, 0.4851, 0.4504]), std=tensor([0.2467, 0.2429, 0.2616]))"
            ]
          },
          "execution_count": 33,
          "metadata": {},
          "output_type": "execute_result"
        }
      ],
      "source": [
        "transforms.Normalize(val_mean, val_std)"
      ]
    },
    {
      "cell_type": "code",
      "execution_count": null,
      "metadata": {
        "id": "eJzl22a2FGgr"
      },
      "outputs": [],
      "source": [
        "transformed_val_dataset = torchvision.datasets.CIFAR10(\n",
        "    '../data-unversioned/p1ch7/', train=False, download=False,\n",
        "    transform=transforms.Compose([\n",
        "        transforms.ToTensor(),\n",
        "        transforms.Normalize(train_mean,\n",
        "                             train_std)\n",
        "    ]))\n",
        "val_loader = torch.utils.data.DataLoader(transformed_val_dataset, batch_size=64, shuffle=False)"
      ]
    },
    {
      "cell_type": "code",
      "execution_count": null,
      "metadata": {
        "colab": {
          "base_uri": "https://localhost:8080/"
        },
        "id": "lXPkhlkJFrgr",
        "outputId": "cc41020e-f7ad-4a5b-d498-ad512c7e04fd"
      },
      "outputs": [
        {
          "name": "stdout",
          "output_type": "stream",
          "text": [
            "Validation Accurracy:%f 0.4503\n"
          ]
        }
      ],
      "source": [
        "correct=0\n",
        "total=0\n",
        "with torch.no_grad():\n",
        "  for imgs, labels in val_loader:\n",
        "      imgs, labels = imgs.to(device), labels.to(device)\n",
        "      batch_size=imgs.shape[0]\n",
        "      outputs=model(imgs.view(batch_size,-1))\n",
        "      _,predicted=torch.max(outputs,dim=1)\n",
        "      total+=labels.shape[0]\n",
        "      correct+=int((predicted==labels).sum())\n",
        "print(\"Validation Accurracy:%f\", correct/total)"
      ]
    },
    {
      "cell_type": "code",
      "execution_count": null,
      "metadata": {
        "id": "8anUzzslXxyZ"
      },
      "outputs": [],
      "source": [
        "def get_model_size(model):\n",
        "    total_params = sum(p.numel() for p in model.parameters())\n",
        "    trainable_params = sum(p.numel() for p in model.parameters() if p.requires_grad)\n",
        "    return total_params, trainable_params"
      ]
    },
    {
      "cell_type": "code",
      "execution_count": null,
      "metadata": {
        "id": "XNM_LlQwlVQO",
        "outputId": "1e3d8087-1921-41a1-fc5d-e15f79a473ef"
      },
      "outputs": [
        {
          "name": "stdout",
          "output_type": "stream",
          "text": [
            "  Total parameters: 789258\n",
            "  Trainable parameters: 789258\n"
          ]
        }
      ],
      "source": [
        "total_params, trainable_params = get_model_size(model)\n",
        "print(f\"  Total parameters: {total_params}\")\n",
        "print(f\"  Trainable parameters: {trainable_params}\")"
      ]
    },
    {
      "cell_type": "code",
      "execution_count": null,
      "metadata": {
        "id": "R2PiV4HYlVQO"
      },
      "outputs": [],
      "source": []
    },
    {
      "cell_type": "code",
      "execution_count": null,
      "metadata": {
        "id": "WQxCGVChlVQO"
      },
      "outputs": [],
      "source": []
    },
    {
      "cell_type": "code",
      "execution_count": null,
      "metadata": {
        "id": "_bJR53HglVQO"
      },
      "outputs": [],
      "source": []
    },
    {
      "cell_type": "code",
      "execution_count": null,
      "metadata": {
        "id": "fsvLEvyElVQO"
      },
      "outputs": [],
      "source": []
    }
  ],
  "metadata": {
    "colab": {
      "provenance": [],
      "include_colab_link": true
    },
    "kernelspec": {
      "display_name": "Python 3 (ipykernel)",
      "language": "python",
      "name": "python3"
    },
    "language_info": {
      "codemirror_mode": {
        "name": "ipython",
        "version": 3
      },
      "file_extension": ".py",
      "mimetype": "text/x-python",
      "name": "python",
      "nbconvert_exporter": "python",
      "pygments_lexer": "ipython3",
      "version": "3.12.7"
    }
  },
  "nbformat": 4,
  "nbformat_minor": 0
}